{
 "cells": [
  {
   "cell_type": "code",
   "execution_count": 13,
   "id": "1dc33a92-a67e-4f9d-8e33-b009a767ffce",
   "metadata": {
    "tags": []
   },
   "outputs": [],
   "source": [
    "import requests\n",
    "import json\n",
    "import pandas as pd"
   ]
  },
  {
   "cell_type": "markdown",
   "id": "3648a6af-0f33-4d37-9121-d424b597c1d6",
   "metadata": {},
   "source": [
    "## Steps\n",
    "\n",
    "1. Make request to an URL \n",
    "2. Check Status code\n",
    "3. Check content type\n",
    "4. Print content type\n",
    "5. Parse content type to python representation\n",
    "6. Use the data in your application"
   ]
  },
  {
   "cell_type": "code",
   "execution_count": 14,
   "id": "4f163722-1450-4376-9cd5-d32941d457b4",
   "metadata": {
    "tags": []
   },
   "outputs": [],
   "source": [
    "# Make request to an URL\n",
    "response = requests.get('http://localhost:8080/medish_centrum_randstad/api/netlify?page=1')"
   ]
  },
  {
   "cell_type": "code",
   "execution_count": 15,
   "id": "4c1cca5d-b541-4f3b-ab8f-5e9745ac9897",
   "metadata": {
    "tags": []
   },
   "outputs": [
    {
     "data": {
      "text/plain": [
       "200"
      ]
     },
     "execution_count": 15,
     "metadata": {},
     "output_type": "execute_result"
    }
   ],
   "source": [
    "# Check Status code\n",
    "response.status_code"
   ]
  },
  {
   "cell_type": "code",
   "execution_count": 16,
   "id": "78170a5a-7745-4335-9636-ab7a1b836d9c",
   "metadata": {
    "tags": []
   },
   "outputs": [
    {
     "data": {
      "text/plain": [
       "'application/json'"
      ]
     },
     "execution_count": 16,
     "metadata": {},
     "output_type": "execute_result"
    }
   ],
   "source": [
    "# Check content type\n",
    "response.headers['content-type']"
   ]
  },
  {
   "cell_type": "code",
   "execution_count": 17,
   "id": "216168d2-f6db-4824-94c9-065499adcc31",
   "metadata": {
    "tags": []
   },
   "outputs": [
    {
     "name": "stdout",
     "output_type": "stream",
     "text": [
      "<class 'dict'>\n",
      "6\n"
     ]
    }
   ],
   "source": [
    "file_contents= response.json()  #dictionary\n",
    "print(type(file_contents))\n",
    "print(len(file_contents))"
   ]
  },
  {
   "cell_type": "code",
   "execution_count": 18,
   "id": "89a0794b-2665-41be-b3a7-c07ab3149e00",
   "metadata": {
    "tags": []
   },
   "outputs": [
    {
     "name": "stdout",
     "output_type": "stream",
     "text": [
      "status\n"
     ]
    }
   ],
   "source": [
    "keys = file_contents.keys()\n",
    "for key in keys:\n",
    "    print(key)\n",
    "    break"
   ]
  },
  {
   "cell_type": "code",
   "execution_count": 19,
   "id": "e5abe7c1-83ad-4407-8037-662e08de7a0c",
   "metadata": {
    "tags": []
   },
   "outputs": [
    {
     "data": {
      "text/html": [
       "<div>\n",
       "<style scoped>\n",
       "    .dataframe tbody tr th:only-of-type {\n",
       "        vertical-align: middle;\n",
       "    }\n",
       "\n",
       "    .dataframe tbody tr th {\n",
       "        vertical-align: top;\n",
       "    }\n",
       "\n",
       "    .dataframe thead th {\n",
       "        text-align: right;\n",
       "    }\n",
       "</style>\n",
       "<table border=\"1\" class=\"dataframe\">\n",
       "  <thead>\n",
       "    <tr style=\"text-align: right;\">\n",
       "      <th></th>\n",
       "      <th>genetic</th>\n",
       "      <th>length</th>\n",
       "      <th>mass</th>\n",
       "      <th>exercise</th>\n",
       "      <th>smoking</th>\n",
       "      <th>alcohol</th>\n",
       "      <th>sugar</th>\n",
       "      <th>lifespan</th>\n",
       "    </tr>\n",
       "  </thead>\n",
       "  <tbody>\n",
       "    <tr>\n",
       "      <th>0</th>\n",
       "      <td>84.0</td>\n",
       "      <td>180.0</td>\n",
       "      <td>90.0</td>\n",
       "      <td>2.0</td>\n",
       "      <td>9.0</td>\n",
       "      <td>1.0</td>\n",
       "      <td>2</td>\n",
       "      <td>86</td>\n",
       "    </tr>\n",
       "    <tr>\n",
       "      <th>1</th>\n",
       "      <td>84.0</td>\n",
       "      <td>204.0</td>\n",
       "      <td>79.0</td>\n",
       "      <td>3.0</td>\n",
       "      <td>2.0</td>\n",
       "      <td>7.0</td>\n",
       "      <td>3</td>\n",
       "      <td>100</td>\n",
       "    </tr>\n",
       "    <tr>\n",
       "      <th>2</th>\n",
       "      <td>84.0</td>\n",
       "      <td>174.0</td>\n",
       "      <td>74.0</td>\n",
       "      <td>3.0</td>\n",
       "      <td>20.0</td>\n",
       "      <td>3.0</td>\n",
       "      <td>2</td>\n",
       "      <td>87</td>\n",
       "    </tr>\n",
       "    <tr>\n",
       "      <th>3</th>\n",
       "      <td>84.0</td>\n",
       "      <td>187.0</td>\n",
       "      <td>78.0</td>\n",
       "      <td>2.0</td>\n",
       "      <td>6.0</td>\n",
       "      <td>5.0</td>\n",
       "      <td>3</td>\n",
       "      <td>91</td>\n",
       "    </tr>\n",
       "    <tr>\n",
       "      <th>4</th>\n",
       "      <td>84.0</td>\n",
       "      <td>187.0</td>\n",
       "      <td>89.0</td>\n",
       "      <td>2.0</td>\n",
       "      <td>12.0</td>\n",
       "      <td>0.0</td>\n",
       "      <td>2</td>\n",
       "      <td>83</td>\n",
       "    </tr>\n",
       "  </tbody>\n",
       "</table>\n",
       "</div>"
      ],
      "text/plain": [
       "   genetic  length  mass  exercise  smoking  alcohol  sugar  lifespan\n",
       "0     84.0   180.0  90.0       2.0      9.0      1.0      2        86\n",
       "1     84.0   204.0  79.0       3.0      2.0      7.0      3       100\n",
       "2     84.0   174.0  74.0       3.0     20.0      3.0      2        87\n",
       "3     84.0   187.0  78.0       2.0      6.0      5.0      3        91\n",
       "4     84.0   187.0  89.0       2.0     12.0      0.0      2        83"
      ]
     },
     "metadata": {},
     "output_type": "display_data"
    }
   ],
   "source": [
    "life = pd.DataFrame.from_dict(file_contents['data'])\n",
    "display(life.head())"
   ]
  },
  {
   "cell_type": "code",
   "execution_count": 10,
   "id": "49f7aa18-3252-4a17-bb51-00d98a89b2d7",
   "metadata": {},
   "outputs": [
    {
     "name": "stdout",
     "output_type": "stream",
     "text": [
      "      genetic  length  mass  exercise  smoking  alcohol  sugar  lifespan\n",
      "0        84.0   180.0  90.0       2.0      9.0      1.0      2        86\n",
      "1        84.0   204.0  79.0       3.0      2.0      7.0      3       100\n",
      "2        84.0   174.0  74.0       3.0     20.0      3.0      2        87\n",
      "3        84.0   187.0  78.0       2.0      6.0      5.0      3        91\n",
      "4        84.0   187.0  89.0       2.0     12.0      0.0      2        83\n",
      "...       ...     ...   ...       ...      ...      ...    ...       ...\n",
      "8187     82.0   185.0  67.0       3.0     11.0      8.0      2        90\n",
      "8188     82.0   183.0  72.0       2.0      1.0      5.0      4        88\n",
      "8189     83.0   192.0  92.0       1.0     22.0      2.0      4        62\n",
      "8190     81.0   175.0  60.0       3.0     13.0      7.0      2        93\n",
      "8191     83.0   204.0  76.0       3.0      8.0      8.0      1        96\n",
      "\n",
      "[8185 rows x 8 columns]\n"
     ]
    }
   ],
   "source": [
    "life=life[['genetic','length','mass','exercise','smoking','alcohol','sugar','lifespan']]\n",
    "life.dropna(inplace=True)\n",
    "print(life)\n",
    "\n",
    "#drop the missing value in data"
   ]
  },
  {
   "cell_type": "code",
   "execution_count": 11,
   "id": "12a2e619-f6c0-4643-bf2a-87f005ed9aba",
   "metadata": {
    "tags": []
   },
   "outputs": [],
   "source": [
    "from sklearn.model_selection import train_test_split"
   ]
  },
  {
   "cell_type": "code",
   "execution_count": 12,
   "id": "53c980d3-2e78-4bf7-a6ce-a819b7dc14ad",
   "metadata": {
    "tags": []
   },
   "outputs": [
    {
     "name": "stdout",
     "output_type": "stream",
     "text": [
      "(6548, 7) (6548, 1) (1637, 7) (1637, 1)\n"
     ]
    }
   ],
   "source": [
    "X=life[['genetic','length','mass','exercise','smoking','alcohol','sugar']]\n",
    "y=life[['lifespan']]\n",
    "X_train,X_test,y_train,y_test=train_test_split(X,y,test_size=0.2)\n",
    "print(X_train.shape,y_train.shape,X_test.shape,y_test.shape)"
   ]
  },
  {
   "cell_type": "code",
   "execution_count": null,
   "id": "e136cc81-1acd-4b69-9cbf-c72104b37531",
   "metadata": {},
   "outputs": [],
   "source": []
  }
 ],
 "metadata": {
  "kernelspec": {
   "display_name": "Python 3 (ipykernel)",
   "language": "python",
   "name": "python3"
  },
  "language_info": {
   "codemirror_mode": {
    "name": "ipython",
    "version": 3
   },
   "file_extension": ".py",
   "mimetype": "text/x-python",
   "name": "python",
   "nbconvert_exporter": "python",
   "pygments_lexer": "ipython3",
   "version": "3.10.10"
  },
  "vscode": {
   "interpreter": {
    "hash": "7bcdc6b3b86716660d7eadbb40941a954fc54027f36a2a2e4af8cf25c6bb0831"
   }
  }
 },
 "nbformat": 4,
 "nbformat_minor": 5
}
