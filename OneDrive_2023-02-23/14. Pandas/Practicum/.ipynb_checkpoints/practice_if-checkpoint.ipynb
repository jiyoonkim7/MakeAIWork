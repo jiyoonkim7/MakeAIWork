{
 "cells": [
  {
   "cell_type": "code",
   "execution_count": 1,
   "id": "fd164629-c435-4795-a9dd-b1355d5d025a",
   "metadata": {
    "tags": []
   },
   "outputs": [
    {
     "name": "stdout",
     "output_type": "stream",
     "text": [
      "True\n"
     ]
    }
   ],
   "source": [
    "a=5\n",
    "if a == 5:\n",
    "    print(\"True\")"
   ]
  },
  {
   "cell_type": "code",
   "execution_count": 2,
   "id": "5c75b8eb-bb70-45b7-99f7-f66d2fd8059b",
   "metadata": {
    "tags": []
   },
   "outputs": [
    {
     "name": "stdout",
     "output_type": "stream",
     "text": [
      "coffee\n"
     ]
    }
   ],
   "source": [
    "money = 300\n",
    "\n",
    "if money == 300:\n",
    "    print(\"coffee\")"
   ]
  },
  {
   "cell_type": "code",
   "execution_count": 3,
   "id": "435dbe78-4863-43e0-b70b-76bed341e917",
   "metadata": {
    "tags": []
   },
   "outputs": [
    {
     "name": "stdout",
     "output_type": "stream",
     "text": [
      "return the rest 200 euro\n"
     ]
    }
   ],
   "source": [
    "money = 200\n",
    "if money<300:\n",
    "    print(\"return the rest %d euro\"% money)"
   ]
  },
  {
   "cell_type": "code",
   "execution_count": 4,
   "id": "e81a1a50-3ddf-4615-b072-73df8c8dd3a3",
   "metadata": {
    "tags": []
   },
   "outputs": [
    {
     "name": "stdout",
     "output_type": "stream",
     "text": [
      "coffee\n",
      "return the rest 700 euro\n"
     ]
    }
   ],
   "source": [
    "money = 1000\n",
    "if money>300:\n",
    "    print(\"coffee\")\n",
    "    print(\"return the rest %d euro\" % (money-300))\n",
    "    "
   ]
  },
  {
   "cell_type": "code",
   "execution_count": 5,
   "id": "fb2c5a09-f260-47ba-906b-0efdd0620567",
   "metadata": {
    "tags": []
   },
   "outputs": [
    {
     "name": "stdout",
     "output_type": "stream",
     "text": [
      "coffee\n",
      "return the rest 200 euro\n"
     ]
    }
   ],
   "source": [
    "money = 500\n",
    "\n",
    "if money == 300:\n",
    "    print(\"coffee\")\n",
    "elif money < 300:\n",
    "    print(\"return the rest %d euro\" % money)\n",
    "else: \n",
    "    print(\"coffee\")\n",
    "    print(\"return the rest %d euro\" % (money-300))"
   ]
  },
  {
   "cell_type": "code",
   "execution_count": 6,
   "id": "be0b046c-6f1c-41ee-a45d-d2b697a3884a",
   "metadata": {
    "tags": []
   },
   "outputs": [
    {
     "name": "stdout",
     "output_type": "stream",
     "text": [
      "coffee\n",
      "return the rest 200 euro\n"
     ]
    }
   ],
   "source": [
    "money = 500\n",
    "if money == 300:\n",
    "    print(\"coffee\")\n",
    "else:\n",
    "    if money < 300:\n",
    "        print(\"return the rest %d euro\" % money)\n",
    "    else:\n",
    "        print(\"coffee\")\n",
    "        print(\"return the rest %d euro\" % (money-300))"
   ]
  },
  {
   "cell_type": "code",
   "execution_count": 7,
   "id": "7745520a-14ee-406f-8278-c345a07722ed",
   "metadata": {
    "tags": []
   },
   "outputs": [
    {
     "name": "stdout",
     "output_type": "stream",
     "text": [
      "2 * 1 = 2\n",
      "2 * 2 = 4\n",
      "2 * 3 = 6\n",
      "2 * 4 = 8\n",
      "2 * 5 = 10\n",
      "2 * 6 = 12\n",
      "2 * 7 = 14\n",
      "2 * 8 = 16\n",
      "2 * 9 = 18\n"
     ]
    }
   ],
   "source": [
    "number = 1\n",
    "while number < 10:\n",
    "    print(\"2 * %d = %d\" %(number, 2*number))\n",
    "    number = number + 1"
   ]
  },
  {
   "cell_type": "code",
   "execution_count": 2,
   "id": "9b743b0e-9d9e-4d4c-909a-8a36835c0490",
   "metadata": {},
   "outputs": [
    {
     "name": "stdin",
     "output_type": "stream",
     "text": [
      "Type the amount:  200\n"
     ]
    },
    {
     "name": "stdout",
     "output_type": "stream",
     "text": [
      "return the amount 200.\n"
     ]
    },
    {
     "name": "stdin",
     "output_type": "stream",
     "text": [
      "Type the amount:  700\n"
     ]
    },
    {
     "name": "stdout",
     "output_type": "stream",
     "text": [
      "coffee\n",
      "return the amount 400.\n"
     ]
    },
    {
     "name": "stdin",
     "output_type": "stream",
     "text": [
      "Type the amount:  300\n"
     ]
    },
    {
     "name": "stdout",
     "output_type": "stream",
     "text": [
      "coffee\n"
     ]
    },
    {
     "name": "stdin",
     "output_type": "stream",
     "text": [
      "Type the amount:  300\n"
     ]
    },
    {
     "name": "stdout",
     "output_type": "stream",
     "text": [
      "coffee\n"
     ]
    },
    {
     "name": "stdin",
     "output_type": "stream",
     "text": [
      "Type the amount:  300\n"
     ]
    },
    {
     "name": "stdout",
     "output_type": "stream",
     "text": [
      "coffee\n"
     ]
    },
    {
     "name": "stdin",
     "output_type": "stream",
     "text": [
      "Type the amount:  300\n"
     ]
    },
    {
     "name": "stdout",
     "output_type": "stream",
     "text": [
      "coffee\n",
      "No coffee\n"
     ]
    }
   ],
   "source": [
    "coffee = 5\n",
    "while coffee>0:\n",
    "    money= int(input(\"Type the amount: \"))\n",
    "    if money == 300:\n",
    "        print(\"coffee\")\n",
    "        coffee = coffee - 1\n",
    "    elif money<300:\n",
    "        print(\"return the amount %d.\" % money)\n",
    "    else:\n",
    "        print(\"coffee\")\n",
    "        coffee = coffee-1\n",
    "        print(\"return the amount %d.\" % (money-300))\n",
    "              \n",
    "print(\"No coffee\")              "
   ]
  },
  {
   "cell_type": "code",
   "execution_count": 3,
   "id": "04d986ef-a2cd-4df1-b549-5dbbd11dc817",
   "metadata": {},
   "outputs": [
    {
     "name": "stdout",
     "output_type": "stream",
     "text": [
      "americazno\n",
      "cafe latte\n",
      "cafe mocca\n",
      "vanila latte\n"
     ]
    }
   ],
   "source": [
    "coffees = ['americazno', 'cafe latte', 'cafe mocca', 'vanila latte']\n",
    "\n",
    "for coffee in coffees:\n",
    "    print(coffee)"
   ]
  },
  {
   "cell_type": "code",
   "execution_count": 4,
   "id": "91f69449-e939-47dc-a145-166e1793575d",
   "metadata": {
    "tags": []
   },
   "outputs": [
    {
     "name": "stdout",
     "output_type": "stream",
     "text": [
      "1\n",
      "2\n",
      "3\n",
      "4\n"
     ]
    }
   ],
   "source": [
    "for i in range(1,5):\n",
    "    print(i)"
   ]
  },
  {
   "cell_type": "code",
   "execution_count": null,
   "id": "9d85ba2d-b8ca-43b5-a6db-317593083fa8",
   "metadata": {},
   "outputs": [],
   "source": []
  }
 ],
 "metadata": {
  "kernelspec": {
   "display_name": "Python 3 (ipykernel)",
   "language": "python",
   "name": "python3"
  },
  "language_info": {
   "codemirror_mode": {
    "name": "ipython",
    "version": 3
   },
   "file_extension": ".py",
   "mimetype": "text/x-python",
   "name": "python",
   "nbconvert_exporter": "python",
   "pygments_lexer": "ipython3",
   "version": "3.10.10"
  }
 },
 "nbformat": 4,
 "nbformat_minor": 5
}
