{
 "cells": [
  {
   "cell_type": "markdown",
   "id": "9abf346e",
   "metadata": {},
   "source": [
    "# Referenties"
   ]
  },
  {
   "cell_type": "markdown",
   "id": "1389c0c7",
   "metadata": {},
   "source": [
    "Altijd beginnen met 'getting started':\n",
    "\n",
    "https://pandas.pydata.org/docs/getting_started/index.html#getting-started\n",
    "\n",
    "Dan een snel overzicht:\n",
    "\n",
    "https://pandas.pydata.org/docs/user_guide/10min.html\n",
    "\n",
    "Daarna kijken naar de API beschrijving:\n",
    "\n",
    "https://pandas.pydata.org/docs/reference/index.html"
   ]
  },
  {
   "cell_type": "markdown",
   "id": "f0ae1627",
   "metadata": {},
   "source": [
    "# Installatie"
   ]
  },
  {
   "cell_type": "markdown",
   "id": "5b13e13e",
   "metadata": {},
   "source": [
    "Run `pip3 install pandas` in the terminal to install the Pandas library."
   ]
  },
  {
   "cell_type": "markdown",
   "id": "f31afb1e",
   "metadata": {},
   "source": [
    "# Imports"
   ]
  },
  {
   "cell_type": "code",
   "execution_count": null,
   "id": "f18af832",
   "metadata": {},
   "outputs": [],
   "source": [
    "import pandas as pd\n",
    "\n",
    "import matplotlib.pyplot as plt"
   ]
  },
  {
   "cell_type": "markdown",
   "id": "7cc11f15",
   "metadata": {},
   "source": [
    "# Schetsen"
   ]
  },
  {
   "cell_type": "code",
   "execution_count": null,
   "id": "0bc40d8d",
   "metadata": {},
   "outputs": [],
   "source": [
    "# Dataframe maken\n",
    "df = pd.DataFrame(\n",
    "    {\n",
    "        \"Name\": [\n",
    "            \"Braund, Mr. Owen Harris\",\n",
    "            \"Allen, Mr. William Henry\",\n",
    "            \"Bonnell, Miss. Elizabeth\",\n",
    "        ],\n",
    "        \"Age\": [\n",
    "            22,\n",
    "            35,\n",
    "            58\n",
    "        ],\n",
    "        \"Sex\": [\n",
    "            \"male\",\n",
    "            \"male\",\n",
    "            \"female\"\n",
    "        ],\n",
    "    }\n",
    ")\n",
    "\n",
    "# Standaard print\n",
    "print(df)\n",
    "\n",
    "# Vergelijk met\n",
    "df"
   ]
  },
  {
   "cell_type": "code",
   "execution_count": null,
   "id": "7a3eb146",
   "metadata": {},
   "outputs": [],
   "source": [
    "# Data opslaan\n",
    "# df.to_csv(\"./output/persons.csv\")\n",
    "df.to_csv(\"./output/persons.csv\", index=False)"
   ]
  },
  {
   "cell_type": "code",
   "execution_count": null,
   "id": "8ff7a6a1",
   "metadata": {},
   "outputs": [],
   "source": [
    "# Data inlezen\n",
    "persons = pd.read_csv(\"./output/persons.csv\")\n",
    "\n",
    "print(persons)"
   ]
  },
  {
   "cell_type": "code",
   "execution_count": null,
   "id": "2a247ad7",
   "metadata": {},
   "outputs": [],
   "source": [
    "# Een kolom lezen\n",
    "persons[\"Name\"]"
   ]
  },
  {
   "cell_type": "code",
   "execution_count": null,
   "id": "f519caf2",
   "metadata": {},
   "outputs": [],
   "source": [
    "# De kolomnaam\n",
    "persons.columns[1]"
   ]
  },
  {
   "cell_type": "code",
   "execution_count": null,
   "id": "acb5cc45",
   "metadata": {},
   "outputs": [],
   "source": [
    "# Een kolom verwijderen\n",
    "persons.pop(\"Name\")\n",
    "\n",
    "persons"
   ]
  },
  {
   "cell_type": "code",
   "execution_count": null,
   "id": "86d626a6",
   "metadata": {},
   "outputs": [],
   "source": [
    "# Een rij lezen\n",
    "persons.iloc[2]"
   ]
  },
  {
   "cell_type": "code",
   "execution_count": null,
   "id": "ff894268",
   "metadata": {},
   "outputs": [],
   "source": [
    "# Functie getRow() maken\n",
    "def getRow(df, index):\n",
    "\n",
    "    return df.iloc[index]\n",
    "\n",
    "\n",
    "# Testen\n",
    "print(getRow(persons, 2))"
   ]
  },
  {
   "cell_type": "code",
   "execution_count": null,
   "id": "ead935ce",
   "metadata": {},
   "outputs": [],
   "source": [
    "# Een rij toevoegen\n",
    "persons.loc[3] = [\"Ruud\", 44, \"male\"]\n",
    "\n",
    "persons"
   ]
  },
  {
   "cell_type": "code",
   "execution_count": null,
   "id": "17514ff7",
   "metadata": {},
   "outputs": [],
   "source": [
    "# Functie insertAt(row, index)\n",
    "def insertAt(df, row, index):\n",
    "    \n",
    "    df.loc[index - .5] = row\n",
    "    \n",
    "    # Reindex\n",
    "    return df.sort_index().reset_index(drop=True)\n",
    "\n",
    "# Testen\n",
    "persons = insertAt(persons, [\"Kevin\", 40, \"male\"], 2)\n",
    "\n",
    "persons"
   ]
  },
  {
   "cell_type": "code",
   "execution_count": null,
   "id": "fbf4cb0a",
   "metadata": {},
   "outputs": [],
   "source": [
    "# Verkennen\n",
    "persons.head()"
   ]
  },
  {
   "cell_type": "code",
   "execution_count": null,
   "id": "60bad5e8",
   "metadata": {},
   "outputs": [],
   "source": [
    "# Filteren\n",
    "persons[persons[\"Age\"] < 40]"
   ]
  },
  {
   "cell_type": "code",
   "execution_count": null,
   "id": "4ad3771c",
   "metadata": {},
   "outputs": [],
   "source": [
    "# Groeperen\n",
    "persons.groupby(\"Sex\", group_keys=True).apply(lambda x: x)"
   ]
  },
  {
   "cell_type": "code",
   "execution_count": null,
   "id": "ba3bbd4b",
   "metadata": {},
   "outputs": [],
   "source": [
    "# Extra: toepassing OOP en het bouwen van je eigen library\n",
    "\n",
    "# Methode 1: DataFrame \"wrappen\"\n",
    "class MyDataFrame:\n",
    "    \n",
    "    # Here we assume that df is of type pd.DataFrame\n",
    "    def __init__(self, df):\n",
    "        \n",
    "        self.df = df\n",
    "\n",
    "\n",
    "    def getRow(self, index):\n",
    "\n",
    "        return self.df.iloc[index]\n",
    "\n",
    "\n",
    "    def insertAt(self, row, index):\n",
    "    \n",
    "        self.df.loc[index - .5] = row\n",
    "\n",
    "        # Reindex\n",
    "        self =  self.sort_index().reset_index(drop=True)\n",
    "\n",
    "\n",
    "    # This builtin enables the [] operator\n",
    "    def __getitem__(self, key):\n",
    "        \n",
    "        return self.df[key]\n",
    "\n",
    "\n",
    "    # This builtin enables us to print the dataframe\n",
    "    def __str__(self):\n",
    "        \n",
    "        print(self.df)\n",
    "\n",
    "\n",
    "        \n",
    "# Testen\n",
    "copy = MyDataFrame(persons)\n",
    "\n",
    "copy[\"Name\"]\n",
    "copy.getRow(2)\n",
    "\n",
    "copy"
   ]
  },
  {
   "cell_type": "code",
   "execution_count": null,
   "id": "281b6764",
   "metadata": {},
   "outputs": [],
   "source": [
    "# Methode 2: DataFrame \"extend\"\n",
    "class MyDataFrame(pd.DataFrame):\n",
    "    \n",
    "    # Constructor for class\n",
    "    def __init__(self, data=None, index=None, columns=None, dtype=None, copy=None):\n",
    "        \n",
    "        # Initialize the parent (the DataFrame)\n",
    "        super().__init__(data, index, columns, dtype, copy)\n",
    "\n",
    "\n",
    "    def getRow(self, index):\n",
    "\n",
    "        return self.iloc[index]\n",
    "\n",
    "\n",
    "    def insertAt(self, row, index):\n",
    "    \n",
    "        self.loc[index - .5] = row\n",
    "\n",
    "        # Reindex\n",
    "        self = self.sort_index().reset_index(drop=True)\n",
    "        \n",
    "# Testen\n",
    "# mydf = MyDataFrame(persons)\n",
    "mydf = MyDataFrame(\n",
    "    {\n",
    "        \"Name\": [\n",
    "            \"Braund, Mr. Owen Harris\",\n",
    "            \"Allen, Mr. William Henry\",\n",
    "            \"Bonnell, Miss. Elizabeth\",\n",
    "        ],\n",
    "        \"Age\": [\n",
    "            22,\n",
    "            35,\n",
    "            58\n",
    "        ],\n",
    "        \"Sex\": [\n",
    "            \"male\",\n",
    "            \"male\",\n",
    "            \"female\"\n",
    "        ],\n",
    "    }\n",
    ")\n",
    "\n",
    "row = mydf.getRow(1)\n",
    "\n",
    "row"
   ]
  }
 ],
 "metadata": {
  "kernelspec": {
   "display_name": "Python 3 (ipykernel)",
   "language": "python",
   "name": "python3"
  },
  "language_info": {
   "codemirror_mode": {
    "name": "ipython",
    "version": 3
   },
   "file_extension": ".py",
   "mimetype": "text/x-python",
   "name": "python",
   "nbconvert_exporter": "python",
   "pygments_lexer": "ipython3",
   "version": "3.10.6"
  }
 },
 "nbformat": 4,
 "nbformat_minor": 5
}
