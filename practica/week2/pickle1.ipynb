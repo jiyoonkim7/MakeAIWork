{
 "cells": [
  {
   "cell_type": "code",
   "execution_count": 1,
   "id": "52056a1a-ba61-4dc6-91ed-849dac430fff",
   "metadata": {
    "tags": []
   },
   "outputs": [],
   "source": [
    "import pickle4"
   ]
  },
  {
   "cell_type": "raw",
   "id": "2e0056f3-9565-45c0-93b2-71b8fe346a04",
   "metadata": {},
   "source": [
    "Pickle is library waarmee je.."
   ]
  },
  {
   "cell_type": "code",
   "execution_count": 2,
   "id": "f390539a-ef1c-4a5b-abfb-c48c400bdf1c",
   "metadata": {
    "tags": []
   },
   "outputs": [
    {
     "name": "stdout",
     "output_type": "stream",
     "text": [
      "Python Pickle is used to serialize and deserialize a python object structure.\n"
     ]
    }
   ],
   "source": [
    "print(\"Python Pickle is used to serialize and deserialize a python object structure.\")"
   ]
  },
  {
   "cell_type": "code",
   "execution_count": 3,
   "id": "8b81a8c6-6b94-4b96-af53-b7faa4e23bed",
   "metadata": {
    "tags": []
   },
   "outputs": [
    {
     "name": "stdout",
     "output_type": "stream",
     "text": [
      "“Pickling” is the process whereby a Python object hierarchy is converted into a byte stream, and “unpickling” is the inverse operation, whereby a byte stream (from a binary file or bytes-like object) is converted back into an object hierarchy.\n"
     ]
    }
   ],
   "source": [
    "print(\"“Pickling” is the process whereby a Python object hierarchy is converted into a byte stream, and “unpickling” is the inverse operation, whereby a byte stream (from a binary file or bytes-like object) is converted back into an object hierarchy.\")"
   ]
  },
  {
   "cell_type": "markdown",
   "id": "fde53d5a-d58f-4d05-9033-e66e6336aa93",
   "metadata": {
    "tags": []
   },
   "source": [
    "Pickle is unsafe because it constructs arbitrary Python objects by invoking arbitrary functions. However, this is also gives it the power to serialize almost any Python object, without any boilerplate or even white-/black-listing (in the common case). That's very desirable for some use cases:\n",
    "\n",
    "Quick & easy serialization, for example for pausing and resuming a long-running but simple script. None of the concerns matter here, you just want to dump the program's state as-is and load it later.\n",
    "Sending arbitrary Python data to other processes or computers, as in multiprocessing. The security concerns may apply (but mostly don't), the generality is absolutely necessary, and humans won't have to read it.\n",
    "In other cases, none of the drawbacks is quite enough to justify the work of mapping your stuff to JSON or another restrictive data model. Maybe you don't expect to need human readability/safety/cross-language compatibility or maybe you can do without. Remember, You Ain't Gonna Need It. Using JSON would be the right thing™ but right doesn't always equal good.\n",
    "\n",
    "You'll notice that I completely ignored the \"slow\" downside. That's because it's partially misleading: Pickle is indeed slower for data that fits the JSON model (strings, numbers, arrays, maps) perfectly, but if your data's like that you should use JSON for other reasons anyway. If your data isn't like that (very likely), you also need to take into account the custom code you'll need to turn your objects into JSON data, and the custom code you'll need to turn JSON data back into your objects. It adds both engineering effort and run-time overhead, which must be quantified on a case-by-case basis.\n",
    "                                                                                                                       "
   ]
  },
  {
   "cell_type": "code",
   "execution_count": 4,
   "id": "7c55e91e-5ea3-4b58-a0ce-98794eb71bda",
   "metadata": {
    "tags": []
   },
   "outputs": [
    {
     "name": "stdout",
     "output_type": "stream",
     "text": [
      "Pickle has the advantage of convenience -- it can serialize arbitrary object graphs with no extra work, and works on a pretty broad range of Python types. With that said, it would be unusual for me to use Pickle in new code. JSON is just a lot cleaner to work with.\n"
     ]
    }
   ],
   "source": [
    "string_a = \"Pickle has the advantage of convenience -- it can serialize arbitrary object graphs with no extra work, and works on a pretty broad range of Python types. With that said, it would be unusual for me to use Pickle in new code. JSON is just a lot cleaner to work with.\"\n",
    "\n",
    "print(string_a)"
   ]
  },
  {
   "cell_type": "code",
   "execution_count": 5,
   "id": "91dd33cc-4fe4-4143-ad0f-53d6e3ef4302",
   "metadata": {
    "tags": []
   },
   "outputs": [],
   "source": [
    "import pickle"
   ]
  },
  {
   "cell_type": "code",
   "execution_count": 6,
   "id": "bfcb072e-72cd-4bc4-983a-be371ed2cb9c",
   "metadata": {
    "tags": []
   },
   "outputs": [],
   "source": [
    "f = open(\"test.pkl\", \"wb\") # 'wb' = write binary\n",
    "pickle.dump(string_a,f)\n",
    "f.close()"
   ]
  },
  {
   "cell_type": "code",
   "execution_count": 7,
   "id": "ccd9fe9a-5b39-49ed-ad9c-14e1f8c6bc73",
   "metadata": {
    "tags": []
   },
   "outputs": [
    {
     "name": "stdout",
     "output_type": "stream",
     "text": [
      "De inhoud van deze string is veranderd\n"
     ]
    }
   ],
   "source": [
    "string_a = \"De inhoud van deze string is veranderd\"\n",
    "print(string_a)"
   ]
  },
  {
   "cell_type": "code",
   "execution_count": 8,
   "id": "eada0b8c-9801-47bf-8a3c-337ebc8d17a3",
   "metadata": {
    "tags": []
   },
   "outputs": [],
   "source": [
    "f = open(\"test.pkl\",\"rb\") #rb = read binary\n",
    "temp = pickle.load(f)\n",
    "f.close()"
   ]
  },
  {
   "cell_type": "code",
   "execution_count": 9,
   "id": "0119d8dc-213f-40d3-92a5-f0af9a114dff",
   "metadata": {
    "tags": []
   },
   "outputs": [
    {
     "name": "stdout",
     "output_type": "stream",
     "text": [
      "Pickle has the advantage of convenience -- it can serialize arbitrary object graphs with no extra work, and works on a pretty broad range of Python types. With that said, it would be unusual for me to use Pickle in new code. JSON is just a lot cleaner to work with.\n"
     ]
    }
   ],
   "source": [
    "print(temp)"
   ]
  },
  {
   "cell_type": "code",
   "execution_count": 10,
   "id": "665d6406-2613-4b33-8593-3cb2631d0fb3",
   "metadata": {
    "tags": []
   },
   "outputs": [],
   "source": [
    "a = [1 , 2, 3]\n",
    "\n",
    "with open(\"test.pkl\", \"wb\") as f:\n",
    "    pickle.dump(a, f)"
   ]
  },
  {
   "cell_type": "code",
   "execution_count": 11,
   "id": "f510057f-ff2b-4f32-aeb2-dbed4b030848",
   "metadata": {
    "tags": []
   },
   "outputs": [
    {
     "name": "stdout",
     "output_type": "stream",
     "text": [
      "[1, 2, 3]\n"
     ]
    }
   ],
   "source": [
    "print(a)"
   ]
  },
  {
   "cell_type": "code",
   "execution_count": 12,
   "id": "56ce3967-d3c0-4660-a57e-48c3a0f30006",
   "metadata": {
    "tags": []
   },
   "outputs": [
    {
     "name": "stdout",
     "output_type": "stream",
     "text": [
      "hallo\n"
     ]
    }
   ],
   "source": [
    "a = \"hallo\"\n",
    "print(a)"
   ]
  },
  {
   "cell_type": "code",
   "execution_count": 28,
   "id": "291b0b59-0dbe-4183-9b02-c5c6b8bc8cb0",
   "metadata": {
    "tags": []
   },
   "outputs": [],
   "source": [
    " #Import pickle module\n",
    "import pickle\n",
    "from student import Student\n",
    "from ai import AI"
   ]
  },
  {
   "cell_type": "code",
   "execution_count": 50,
   "id": "431f8dd6-e788-4598-8001-70582e896726",
   "metadata": {
    "tags": []
   },
   "outputs": [
    {
     "name": "stdout",
     "output_type": "stream",
     "text": [
      "Data is serialized\n"
     ]
    }
   ],
   "source": [
    "#Create student  object\n",
    "# jiyoon = Student('Jiyoon', 'jiyoon@gmail.com', 'Cohort2')\n",
    "# hans = Student('Hans', '@', 'Cohort2')\n",
    "# marina = Student('Marina', '@', 'Cohort2')\n",
    "\n",
    "#print(hans)\n",
    "# # Open file for store data\n",
    "# fileHandler = open('studentData', 'wb')\n",
    "\n",
    "# # Save the data into the file\n",
    "# pickle.dump(jiyoon, fileHandler)\n",
    "\n",
    "\n",
    "# # Close the file \n",
    "# fileHandler.close()\n",
    "\n",
    "\n",
    "# # Print message\n",
    "# print('Data is serialized')\n",
    "\n",
    "\n",
    "# Import pickle module\n",
    "import pickle\n",
    "\n",
    "# Declare the employee class to store the value\n",
    "class Student:\n",
    "  def __init__(self, name, email, post):\n",
    "    self.name = name\n",
    "    self.email = email\n",
    "    self.post = post\n",
    " \n",
    "#Create student  object\n",
    "stuObject = Student('Jiyoon', 'jiyoon@gmail.com', 'Cohort2')\n",
    "\n",
    "# Open file for store data\n",
    "fileHandler = open('studentData', 'wb')\n",
    "\n",
    "# Save the data into the file\n",
    "pickle.dump(stuObject, fileHandler)\n",
    "\n",
    "# Close the file\n",
    "fileHandler.close()\n",
    "\n",
    "# Print message\n",
    "print('Data is serialized')"
   ]
  },
  {
   "cell_type": "code",
   "execution_count": 49,
   "id": "b365b016-53ca-4237-8e9f-818fcca191cf",
   "metadata": {
    "tags": []
   },
   "outputs": [
    {
     "name": "stdout",
     "output_type": "stream",
     "text": [
      "Student Information:\n",
      "Name  : Jiyoon\n",
      "Email  : jiyoon@gmail.com\n",
      "Post : Cohort2\n"
     ]
    }
   ],
   "source": [
    "# Import pickle module\n",
    "import pickle\n",
    "\n",
    "# Declare student class to read and print data from a file\n",
    "class Student:\n",
    "  def __init__(self, name, email, post):\n",
    "    self.name = name\n",
    "    self.email = email\n",
    "    self.post = post\n",
    "\n",
    "  def display(self):\n",
    "    print('Student Information:')\n",
    "    print('Name  :', self.name)\n",
    "    print('Email  :', self.email)\n",
    "    print('Post :', self.post)\n",
    " \n",
    "# Open the file for reading\n",
    "fileObject = open('studentData', 'rb')\n",
    "\n",
    "# Unpickle the data\n",
    "student = pickle.load(fileObject)\n",
    "\n",
    "# Close file\n",
    "fileObject.close()\n",
    "\n",
    "#print the dataframe\n",
    "student.display()"
   ]
  },
  {
   "cell_type": "code",
   "execution_count": null,
   "id": "2a9a1869-ad14-454e-89f3-98f5f978ef47",
   "metadata": {},
   "outputs": [],
   "source": []
  }
 ],
 "metadata": {
  "kernelspec": {
   "display_name": "Python 3 (ipykernel)",
   "language": "python",
   "name": "python3"
  },
  "language_info": {
   "codemirror_mode": {
    "name": "ipython",
    "version": 3
   },
   "file_extension": ".py",
   "mimetype": "text/x-python",
   "name": "python",
   "nbconvert_exporter": "python",
   "pygments_lexer": "ipython3",
   "version": "3.10.10"
  }
 },
 "nbformat": 4,
 "nbformat_minor": 5
}
