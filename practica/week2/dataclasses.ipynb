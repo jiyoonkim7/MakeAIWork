{
 "cells": [
  {
   "cell_type": "code",
   "execution_count": 6,
   "id": "5fda8612-2587-4960-b0d9-12381f1e5575",
   "metadata": {
    "tags": []
   },
   "outputs": [],
   "source": [
    "import dataclasses"
   ]
  },
  {
   "cell_type": "code",
   "execution_count": 9,
   "id": "15922a14-ce57-437a-9612-8a086a5b7d92",
   "metadata": {
    "tags": []
   },
   "outputs": [
    {
     "name": "stdout",
     "output_type": "stream",
     "text": [
      "{'length': 6, 'width': 1.56, 'weight': 360, 'deckHeight': (83, 108), 'robotArmLength': 1.8, 'numberOfSolarPanels': 2}\n"
     ]
    }
   ],
   "source": [
    "print(marslanderSpecs)"
   ]
  },
  {
   "cell_type": "code",
   "execution_count": 2,
   "id": "17c8ce49-52f5-4ce4-8d49-44a94f1ce081",
   "metadata": {
    "tags": []
   },
   "outputs": [
    {
     "data": {
      "text/plain": [
       "dict_items([('length', 6), ('width', 1.56), ('weight', 360), ('deckHeight', (83, 108)), ('robotArmLength', 1.8), ('numberOfSolarPanels', 2)])"
      ]
     },
     "execution_count": 2,
     "metadata": {},
     "output_type": "execute_result"
    }
   ],
   "source": [
    "marslanderSpecs = { 'length': 6, 'width': 1.56, 'weight': 360, 'deckHeight': (83, 108), 'robotArmLength': 1.8, 'numberOfSolarPanels': 2}\n",
    "marslanderSpecs.items()"
   ]
  }
 ],
 "metadata": {
  "kernelspec": {
   "display_name": "Python 3 (ipykernel)",
   "language": "python",
   "name": "python3"
  },
  "language_info": {
   "codemirror_mode": {
    "name": "ipython",
    "version": 3
   },
   "file_extension": ".py",
   "mimetype": "text/x-python",
   "name": "python",
   "nbconvert_exporter": "python",
   "pygments_lexer": "ipython3",
   "version": "3.10.10"
  }
 },
 "nbformat": 4,
 "nbformat_minor": 5
}
