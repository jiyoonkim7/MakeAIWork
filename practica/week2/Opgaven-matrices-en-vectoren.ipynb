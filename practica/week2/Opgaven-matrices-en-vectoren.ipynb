{
 "cells": [
  {
   "cell_type": "markdown",
   "id": "2ea724be",
   "metadata": {},
   "source": [
    "# Matrices en vectoren"
   ]
  },
  {
   "cell_type": "markdown",
   "id": "18595eca",
   "metadata": {},
   "source": [
    "Er zijn meerdere manieren om een matrix te representeren.\n",
    "\n",
    "Hier kiezen we voor het volgende datamodel:\n",
    "\n",
    "`matrix_2D :: {rows: int, cols: int, data: []}`\n",
    "\n",
    "Implementeer onderstaande opdrachten in Python."
   ]
  },
  {
   "cell_type": "markdown",
   "id": "42182308",
   "metadata": {},
   "source": [
    "## Vectoren"
   ]
  },
  {
   "cell_type": "markdown",
   "id": "db43ccb1",
   "metadata": {},
   "source": [
    "### 1. Een vector als rij*"
   ]
  },
  {
   "cell_type": "markdown",
   "id": "e9ac731a",
   "metadata": {},
   "source": [
    "Representeer de onderstaande vector in code:\n",
    "\n",
    "$$\n",
    "  \\begin{pmatrix}\n",
    "    1 & 2 & 3\n",
    "  \\end{pmatrix}\n",
    "$$"
   ]
  },
  {
   "cell_type": "code",
   "execution_count": 15,
   "id": "72c55633",
   "metadata": {
    "tags": []
   },
   "outputs": [],
   "source": [
    "# How many rows and colums does this vector have?\n",
    "\n",
    "# ...\n",
    "\n",
    "# Use the definition at the top to implement this vector:\n",
    "\n",
    "# vec = ...\n",
    "\n",
    "# Can you print its dimensions? (rows, cols)\n",
    "\n",
    "# ...\n",
    "\n",
    "# Can you print the number of elements?\n",
    "\n",
    "# ..."
   ]
  },
  {
   "cell_type": "markdown",
   "id": "0abbc0ad",
   "metadata": {},
   "source": [
    "### 2. Een vector als kolom*"
   ]
  },
  {
   "cell_type": "markdown",
   "id": "ac4f647f",
   "metadata": {},
   "source": [
    "Representeer de onderstaande vector in code:\n",
    "\n",
    "$$\n",
    "  \\begin{pmatrix}\n",
    "    1 \\\\\n",
    "    2 \\\\\n",
    "    3\n",
    "  \\end{pmatrix}\n",
    "$$"
   ]
  },
  {
   "cell_type": "code",
   "execution_count": 2,
   "id": "f4f6bfc9",
   "metadata": {
    "tags": []
   },
   "outputs": [
    {
     "name": "stdout",
     "output_type": "stream",
     "text": [
      "this vector has 1rows and 3cols.\n",
      "Rows:  1 1\n",
      "[1, 2, 3]\n"
     ]
    }
   ],
   "source": [
    "# How many rows and colums does this vector have? 3 rows, 1 col\n",
    "\n",
    "# ...\n",
    "\n",
    "# Use the definition at the top to implement this vector:\n",
    "\n",
    "vec = {'rows': 1, 'cols': 3, 'data': [1,2,3]}\n",
    "\n",
    "# Can you print its dimensions? (rows, cols)\n",
    "print(\"this vector has {}rows and {}cols.\".format(vec['rows'], vec['cols']))\n",
    "print(\"Rows: \", vec['rows'], vec.get('rows'))\n",
    "\n",
    "dict = {1: 'rows', 2: 'cols', 3: 'data'}\n",
    "keysList = [key for key in dict]\n",
    "print(keysList)\n",
    "\n",
    "# Can you print the number of elements?\n",
    "\n",
    "\n",
    "# ..."
   ]
  },
  {
   "cell_type": "markdown",
   "id": "8de02084",
   "metadata": {},
   "source": [
    "### 3. Vectoren optellen**"
   ]
  },
  {
   "cell_type": "markdown",
   "id": "c2edbb39",
   "metadata": {},
   "source": [
    "Tel de onderstaande vectoren bij elkaar op:\n",
    "\n",
    "$$\n",
    "  \\begin{pmatrix}\n",
    "    1 \\\\\n",
    "    2 \\\\\n",
    "    3\n",
    "  \\end{pmatrix}\n",
    "  +\n",
    "    \\begin{pmatrix}\n",
    "    9 \\\\\n",
    "    8 \\\\\n",
    "    7\n",
    "  \\end{pmatrix}\n",
    "  =\n",
    "  ...\n",
    "$$"
   ]
  },
  {
   "cell_type": "code",
   "execution_count": 1,
   "id": "9fd6bc2a",
   "metadata": {
    "tags": []
   },
   "outputs": [
    {
     "data": {
      "text/plain": [
       "[10, 10, 10]"
      ]
     },
     "execution_count": 1,
     "metadata": {},
     "output_type": "execute_result"
    }
   ],
   "source": [
    "# Implement both vectors:\n",
    "\n",
    "# vec1 = ...\n",
    "vec = {'rows': 1, 'cols': 3, 'data': [1,2,3]}\n",
    "\n",
    "\n",
    "# vec2 = ...\n",
    "vec2 = {'rows': 1, 'cols': 3, 'data1': [9,8,7]}\n",
    "\n",
    "data = [1,2,3]\n",
    "data1 = [9,8,7]\n",
    "data + data1\n",
    "plus= [data[i]+data1[i] for i in range(len(data))]\n",
    "plus\n",
    "\n",
    "\n",
    "\n",
    "# Can we add them? Check if dimensions are the same:\n",
    "\n",
    "# ...\n",
    "\n",
    "# How do you add these vectors by hand?\n",
    "\n",
    "# ...\n",
    "\n",
    "# Now add the vectors in code:\n",
    "\n",
    "# ..."
   ]
  },
  {
   "cell_type": "markdown",
   "id": "10e3be49",
   "metadata": {},
   "source": [
    "Tel de onderstaande vectoren bij elkaar op:\n",
    "\n",
    "$$\n",
    "  \\begin{pmatrix}\n",
    "    1 & 2 & 3\n",
    "  \\end{pmatrix}\n",
    "  +\n",
    "  \\begin{pmatrix}\n",
    "    9 & 8 & 7\n",
    "  \\end{pmatrix}\n",
    "  =\n",
    "  ...\n",
    "$$"
   ]
  },
  {
   "cell_type": "code",
   "execution_count": 4,
   "id": "3319db0c",
   "metadata": {},
   "outputs": [],
   "source": [
    "# Implement both vectors:\n",
    "\n",
    "# vec1 = ...\n",
    "# vec2 = ...\n",
    "\n",
    "# Can we add them? Check if dimensions are the same:\n",
    "\n",
    "# ...\n",
    "\n",
    "# How do you add these vectors by hand?\n",
    "\n",
    "# ...\n",
    "\n",
    "# Now add the vectors in code:\n",
    "\n",
    "# ..."
   ]
  },
  {
   "cell_type": "markdown",
   "id": "ecf7d53a",
   "metadata": {},
   "source": [
    "## Matrices"
   ]
  },
  {
   "cell_type": "markdown",
   "id": "aea58d0c",
   "metadata": {},
   "source": [
    "### 1. Een 3 x 3 matrix*"
   ]
  },
  {
   "cell_type": "markdown",
   "id": "8ecdf748",
   "metadata": {},
   "source": [
    "Representeer de onderstaande matrix in code:\n",
    "\n",
    "$$\n",
    "  \\begin{pmatrix}\n",
    "    1 & 2 & 3\\\\\n",
    "    4 & 5 & 6\\\\\n",
    "    7 & 8 & 9\\\\\n",
    "  \\end{pmatrix}\n",
    "$$"
   ]
  },
  {
   "cell_type": "code",
   "execution_count": 2,
   "id": "744a8d77",
   "metadata": {
    "tags": []
   },
   "outputs": [
    {
     "name": "stdout",
     "output_type": "stream",
     "text": [
      "this vector has 3rows and 3cols.\n",
      "rows:  3\n",
      "cols:  3\n",
      "The number of elements:\n"
     ]
    },
    {
     "data": {
      "text/plain": [
       "9"
      ]
     },
     "execution_count": 2,
     "metadata": {},
     "output_type": "execute_result"
    }
   ],
   "source": [
    "# How many rows and colums does this matrix have?\n",
    "# 3 rows and 3 coLums\n",
    "# ...\n",
    "\n",
    "\n",
    "# Use the definition at the top to implement this matrix:\n",
    "\n",
    "# mat = \n",
    "mat = {'rows': 3, 'cols': 3, 'data': [1,2,3,4,5,6,7,8,9]}\n",
    "\n",
    "# Can you print its dimensions? (rows, cols)\n",
    "# ...\n",
    "\n",
    "# Can you print the number of elements?\n",
    "print(\"this vector has {}rows and {}cols.\".format(mat['rows'], mat['cols']))\n",
    "print(\"rows: \", mat['rows'])\n",
    "print(\"cols: \", mat['cols'])\n",
    "print(\"The number of elements:\") \n",
    "len([1,2,3,4,5,6,7,8,9])"
   ]
  },
  {
   "cell_type": "markdown",
   "id": "78d195fb",
   "metadata": {},
   "source": [
    "### 2. Matrices optellen**"
   ]
  },
  {
   "cell_type": "markdown",
   "id": "1554b6d8",
   "metadata": {},
   "source": [
    "Tel de onderstaande matrices op:\n",
    "\n",
    "$$\n",
    "  \\begin{pmatrix}\n",
    "    1 & 2 & 3\\\\\n",
    "    4 & 5 & 6\\\\\n",
    "    7 & 8 & 9\\\\\n",
    "  \\end{pmatrix}\n",
    "  +\n",
    "    \\begin{pmatrix}\n",
    "    9 & 8 & 7\\\\\n",
    "    6 & 5 & 4\\\\\n",
    "    3 & 2 & 1\\\\\n",
    "  \\end{pmatrix}\n",
    "  =\n",
    "  ...\n",
    "$$"
   ]
  },
  {
   "cell_type": "code",
   "execution_count": 3,
   "id": "ac6bd48c",
   "metadata": {},
   "outputs": [
    {
     "name": "stdout",
     "output_type": "stream",
     "text": [
      "[10, 10, 10]\n",
      "[9, 10, 10]\n",
      "[10, 10, 10]\n"
     ]
    }
   ],
   "source": [
    "# Implement both matrices:\n",
    "\n",
    "mat1 = {'rows': 3, 'cols': 3, 'data': [1,2,3,4,5,6,7,8,9]}\n",
    "mat2 = {'rows': 3, 'cols': 3, 'data': [9,8,7,6,5,4,3,2,1]}\n",
    "\n",
    "\n",
    "# Can we add them? Check if dimensions are the same:\n",
    "row1a = [1,2,3]\n",
    "row1b = [9,8,7]\n",
    "row2a = [4,5,6]\n",
    "row2b = [5,5,4]\n",
    "row3a = [7,8,9]  \n",
    "row3b = [3,2,1]\n",
    "\n",
    "row1a + row1b\n",
    "plus1= [row1a[i]+row1b[i] for i in range(len(row1a))]\n",
    "\n",
    "row2a + row2b\n",
    "plus2= [row2a[i]+row2b[i] for i in range(len(row2a))]\n",
    "\n",
    "row3a + row3b\n",
    "plus3= [row3a[i]+row3b[i] for i in range(len(row3a))]\n",
    "\n",
    "print(plus1)\n",
    "print(plus2)\n",
    "print(plus3)\n",
    "\n",
    "\n",
    "# How do you add these matrices by hand?\n",
    "\n",
    "# ...\n",
    "\n",
    "# Now add the matrices in code:\n",
    "\n",
    "# ...\n",
    "\n",
    "# In case you didn't: can you generalize this algorithm?\n",
    "\n",
    "# ..."
   ]
  },
  {
   "cell_type": "markdown",
   "id": "7bff9837",
   "metadata": {},
   "source": [
    "### 3. Matrices vermenigvuldigen***"
   ]
  },
  {
   "cell_type": "markdown",
   "id": "4dba734d",
   "metadata": {},
   "source": [
    "Vermenigvuldig de onderstaande matrices:\n",
    "\n",
    "$$\n",
    "  \\begin{pmatrix}\n",
    "    1 & 2 & 3\\\\\n",
    "    4 & 5 & 6\n",
    "  \\end{pmatrix}\n",
    "  *\n",
    "    \\begin{pmatrix}\n",
    "    9 & 8\\\\\n",
    "    6 & 5\\\\\n",
    "    3 & 2\\\\\n",
    "  \\end{pmatrix}\n",
    "  =\n",
    "  ...\n",
    "$$"
   ]
  },
  {
   "cell_type": "code",
   "execution_count": 54,
   "id": "478cbd19-87e1-48d3-a28e-4317c0320c69",
   "metadata": {
    "tags": []
   },
   "outputs": [
    {
     "name": "stdout",
     "output_type": "stream",
     "text": [
      "[9, 12, 9]\n",
      "[8, 10, 6]\n",
      "[36, 30, 18]\n",
      "[32, 25, 12]\n",
      "30\n",
      "24\n",
      "84\n",
      "69\n",
      "The answer is:\n",
      "30 24\n",
      "84 69\n"
     ]
    }
   ],
   "source": [
    "mat1 = {'rows': 3, 'cols': 3}\n",
    "\n",
    "\n",
    "a = (1,2,3)\n",
    "b = (9,6,3)\n",
    "c = (4,5,6)\n",
    "d = (8,5,2)\n",
    "\n",
    "mul = [a[i]*b[i] for i in range(len(a))]\n",
    "print(mul)\n",
    "\n",
    "mul1 = [a[i]*d[i] for i in range(len(a))]\n",
    "print(mul1)\n",
    "\n",
    "mul2 = [c[i]*b[i] for i in range(len(c))]\n",
    "print(mul2)\n",
    "\n",
    "mul3 = [c[i]*d[i] for i in range(len(c))]\n",
    "print(mul3)\n",
    "\n",
    "mulResult=[9, 12, 9]\n",
    "mul1Result=[8, 10, 6]\n",
    "mul2Result=[36, 30, 18]\n",
    "mul3Result=[32, 25, 12]\n",
    "\n",
    "print(mulResult[0]+mulResult[1]+mulResult[2]) \n",
    "print(mul1Result[0]+mul1Result[1]+mul1Result[2])\n",
    "print(mul2Result[0]+mul2Result[1]+mul2Result[2])\n",
    "print(mul3Result[0]+mul3Result[1]+mul3Result[2])\n",
    "print(\"The answer is:\")\n",
    "print(\"30 24\")\n",
    "print(\"84 69\")"
   ]
  },
  {
   "cell_type": "code",
   "execution_count": 107,
   "id": "9895aaab",
   "metadata": {
    "tags": []
   },
   "outputs": [
    {
     "name": "stdout",
     "output_type": "stream",
     "text": [
      "[[9, 12, 9], [8, 10, 6], [36, 30, 18], [32, 25, 12]]\n"
     ]
    }
   ],
   "source": [
    "# Implement both matrices:\n",
    "# another method #\n",
    "\n",
    "mat1 = [[1,2,3],[1,2,3],[4,5,6],[4,5,6]]\n",
    "mat2 = [[9,6,3],[8,5,2],[9,6,3],[8,5,2]]\n",
    "result = [[0]*3]*4\n",
    "\n",
    "for x in range(len(mat1)):\n",
    "    result[x] = list(map(lambda a,b: a*b ,mat1[x],mat2[x]))\n",
    "    \n",
    "print(result)"
   ]
  },
  {
   "cell_type": "code",
   "execution_count": 8,
   "id": "d045e03e-588b-4f11-9883-1baa81cd5f8e",
   "metadata": {},
   "outputs": [
    {
     "name": "stdin",
     "output_type": "stream",
     "text": [
      "Type number of rows for matrix-M0:  2\n",
      "Type number of columns for matrix-M0:  3\n"
     ]
    },
    {
     "name": "stdout",
     "output_type": "stream",
     "text": [
      "\n"
     ]
    },
    {
     "name": "stdin",
     "output_type": "stream",
     "text": [
      "Type number of rows for matrix-M1:  3\n",
      "Type number of columns for matrix-M1:  2\n"
     ]
    },
    {
     "name": "stdout",
     "output_type": "stream",
     "text": [
      "\n",
      "Type values for matrix M0\n"
     ]
    },
    {
     "name": "stdin",
     "output_type": "stream",
     "text": [
      "column 1 -> Type 1 element: 1\n",
      "column 2 -> Type 1 element: 2\n",
      "column 3 -> Type 1 element: 3\n",
      "column 1 -> Type 2 element: 4\n",
      "column 2 -> Type 2 element: 5\n",
      "column 3 -> Type 2 element: 6\n"
     ]
    },
    {
     "name": "stdout",
     "output_type": "stream",
     "text": [
      "\n",
      "Type values for matrix M1 \n"
     ]
    },
    {
     "name": "stdin",
     "output_type": "stream",
     "text": [
      "column 1 -> Type 1 element: 9\n",
      "column 2 -> Type 1 element: 8\n",
      "column 1 -> Type 2 element: 6\n",
      "column 2 -> Type 2 element: 5\n",
      "column 1 -> Type 3 element: 3\n",
      "column 2 -> Type 3 element: 2\n"
     ]
    },
    {
     "name": "stdout",
     "output_type": "stream",
     "text": [
      "\n",
      "Matrix-M0 :\n",
      "[1, 2, 3]\n",
      "[4, 5, 6]\n",
      "\n",
      "Matrix-M1 :\n",
      "[9, 8]\n",
      "[6, 5]\n",
      "[3, 2]\n",
      "\n",
      "Multiplication of Matrix-M0) and Matrix-M1is :\n",
      "[30, 24]\n",
      "[84, 69]\n"
     ]
    }
   ],
   "source": [
    "#matrix multiplication\n",
    "matrix_M0_rows = int(input('Type number of rows for matrix-M0: '))\n",
    "matrix_M0_cols  = int(input('Type number of columns for matrix-M0: '))\n",
    "\n",
    "print()\n",
    "\n",
    "matrix_M1_rows = int(input('Type number of rows for matrix-M1: '))\n",
    "matrix_M1_cols  = int(input('Type number of columns for matrix-M1: '))\n",
    "\n",
    "print() \n",
    "\n",
    "if matrix_M0_cols == matrix_M1_rows:\n",
    "    print('Type values for matrix M0')\n",
    "    matrix_M0 = [[int(input(f\"column {j+1} -> Type {i+1} element:\")) for j in range(matrix_M0_cols)] for i in range(matrix_M0_rows) ]\n",
    "\n",
    "    print() \n",
    "    \n",
    "    print('Type values for matrix M1 ')\n",
    "    matrix_M1 = [[int(input(f\"column {j+1} -> Type {i+1} element:\")) for j in range(matrix_M1_cols)] for i in range(matrix_M1_rows) ]\n",
    "\n",
    "    print() \n",
    "\n",
    "    print('Matrix-M0 :')\n",
    "    for i in matrix_M0:\n",
    "        print(i)\n",
    "\n",
    "    print() \n",
    "\n",
    "    print('Matrix-M1 :')\n",
    "    for i in matrix_M1:\n",
    "        print(i)\n",
    "\n",
    "    # resultant matrix (matrix that store answer and intially it is Zero)\n",
    "    result = [[0 for j in range(matrix_M1_cols)] for i in range(matrix_M0_rows)]\n",
    "\n",
    "    # main logic for matrix multiplication\n",
    "    for i in range(len(matrix_M0)):\n",
    "        for j in range(len(matrix_M1[0])):\n",
    "            for k in range(len(matrix_M1)):\n",
    "                result[i][j] += matrix_M0[i][k] * matrix_M1[k][j]\n",
    "        \n",
    "    print() #for new line\n",
    "\n",
    "    print('Multiplication of Matrix-M0) and Matrix-M1is :')\n",
    "    for i in result:  #print result\n",
    "        print(i)\n",
    "        \n",
    "else:\n",
    "    print('Multiplication of matrices is not possible (columns of matrix-M0 = row of matrix-M1)')"
   ]
  }
 ],
 "metadata": {
  "kernelspec": {
   "display_name": "Python 3 (ipykernel)",
   "language": "python",
   "name": "python3"
  },
  "language_info": {
   "codemirror_mode": {
    "name": "ipython",
    "version": 3
   },
   "file_extension": ".py",
   "mimetype": "text/x-python",
   "name": "python",
   "nbconvert_exporter": "python",
   "pygments_lexer": "ipython3",
   "version": "3.10.10"
  }
 },
 "nbformat": 4,
 "nbformat_minor": 5
}
