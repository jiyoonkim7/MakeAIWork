{
 "cells": [
  {
   "cell_type": "markdown",
   "id": "ce776e9e-e316-4a03-ad68-d9e0a090b894",
   "metadata": {},
   "source": [
    "<div>\n",
    "    <img src='../pics/banner.PNG'/>\n",
    "</div>\n",
    "<div>\n",
    "    <img width=\"10%\" height=\"10%\" src='../pics/python-programming.png'/>\n",
    "    <img src='../pics/miw.PNG'/>\n",
    "</div>\n",
    "<div>\n",
    "    <em>Author: Jeroen Boogaard</em>\n",
    "</div>"
   ]
  },
  {
   "cell_type": "markdown",
   "id": "b57ce072-c647-44a4-8078-07045ee55df9",
   "metadata": {
    "tags": []
   },
   "source": [
    "<h1>Practicum SQL </h1>"
   ]
  },
  {
   "cell_type": "markdown",
   "id": "9f080c20-09e7-415e-b4b8-91b340464972",
   "metadata": {},
   "source": [
    "<h2>Imports<h2>"
   ]
  },
  {
   "cell_type": "code",
   "execution_count": 55,
   "id": "91986813",
   "metadata": {
    "tags": []
   },
   "outputs": [
    {
     "data": {
      "text/plain": [
       "1"
      ]
     },
     "execution_count": 55,
     "metadata": {},
     "output_type": "execute_result"
    }
   ],
   "source": [
    "from os import system as sys\n",
    "sys('pip install pysqlite3 --upgrade pip')"
   ]
  },
  {
   "cell_type": "code",
   "execution_count": 56,
   "id": "fc9cc22c-9b16-4f97-be97-65fa68a4f5b6",
   "metadata": {
    "tags": []
   },
   "outputs": [],
   "source": [
    "from matplotlib import pyplot as plt\n",
    "from matplotlib_venn import venn2, venn3\n",
    "from PIL import Image\n",
    "import pandas as pd\n",
    "import sqlite3"
   ]
  },
  {
   "cell_type": "markdown",
   "id": "206be2e2-1646-4b41-bc5d-e23ca9ce2199",
   "metadata": {},
   "source": [
    "<h2>Extract, Transform and Load</h2>"
   ]
  },
  {
   "cell_type": "markdown",
   "id": "27681fa7-135e-4301-9eb3-b0d945ca7f45",
   "metadata": {},
   "source": [
    "<h3>Extract</h3>"
   ]
  },
  {
   "cell_type": "code",
   "execution_count": 57,
   "id": "3dc0221e-2539-46d5-9b46-f5031b987547",
   "metadata": {
    "tags": []
   },
   "outputs": [],
   "source": [
    "# https://raw.githubusercontent.com/ajturner/acetate/master/places/Countries-Europe.csv\n",
    "csvFile = \"../csv/countries_europe.csv\"\n",
    "euCsvFile = \"../csv/european_union.csv\"\n",
    "\n",
    " # Create Pandas DataFrames\n",
    "europeDF = pd.read_csv(csvFile)\n",
    "euDF = pd.read_csv(csvFile)"
   ]
  },
  {
   "cell_type": "markdown",
   "id": "620dd73e-33e6-42b4-89aa-c80a12833ad1",
   "metadata": {
    "jp-MarkdownHeadingCollapsed": true,
    "tags": []
   },
   "source": [
    "<h3>Transform</h3>"
   ]
  },
  {
   "cell_type": "markdown",
   "id": "184e4908-ac20-4417-8a04-60d0a2a80f44",
   "metadata": {},
   "source": [
    "<h3>Exercise 1</h3>\n",
    "<h4>Gegeven</h4>"
   ]
  },
  {
   "cell_type": "code",
   "execution_count": 58,
   "id": "649e4d4f-bcf5-40ad-9f58-55a1481b9d8d",
   "metadata": {
    "tags": []
   },
   "outputs": [],
   "source": [
    "benelux = {\"Belgium\", \"The Netherlands\", \"Luxembourg\"}\n",
    "nordics = {\"Denmark\", \"Finland\", \"Iceland\", \"Norway\"}\n",
    "baltics = {\"Estonia\", \"Latvia\", \"Lithuania\"}"
   ]
  },
  {
   "cell_type": "markdown",
   "id": "cefd609d-415b-40ce-9aa8-56cf98e386ab",
   "metadata": {
    "tags": []
   },
   "source": [
    "<h4>Gevraagd</h4>\n",
    "<ol>\n",
    "    <li>Voeg de kolom <u>groups</u> toe aan de dataset <u>europeDF</u> met daarin de groep waartoe een land behoort volgens bovenstaande sets</li>\n",
    "    <li>Ga na of er nog meer landengroepen zijn binnen Europa en voeg die ook toe</li>\n",
    "    <li>Sla deze verrijkte dataset op in een nieuw CSV bestand</li>\n",
    "</ol>"
   ]
  },
  {
   "cell_type": "markdown",
   "id": "950cd16a-4697-4e10-9a29-34e54145de68",
   "metadata": {},
   "source": [
    "<h4>Oplossing</h4>"
   ]
  },
  {
   "cell_type": "code",
   "execution_count": 75,
   "id": "0c95f7dc-7a1f-42bb-81ec-cba65211b104",
   "metadata": {
    "tags": []
   },
   "outputs": [
    {
     "name": "stdout",
     "output_type": "stream",
     "text": [
      "    zoom                    name  abbreviation Code  ISO numeric  \\\n",
      "0      3                 Ukraine          Ukr.  UKR          804   \n",
      "1      3                  France           Fr.  FRA          250   \n",
      "2      3                   Spain         Spain  ESP          724   \n",
      "3      3                  Sweden          Swe.  SWE          752   \n",
      "4      3                 Germany          Ger.  DEU          276   \n",
      "5      3                 Finland          Fin.  FIN          246   \n",
      "6      3                  Norway          Nor.  NOR          578   \n",
      "7      3                  Poland          Pol.  POL          616   \n",
      "8      3                   Italy         Italy  ITA          380   \n",
      "9      3          United Kingdom          U.K.  GBR          826   \n",
      "10     3                 Romania          Rom.  ROU          642   \n",
      "11     3                 Belarus         Bela.  BLR          112   \n",
      "12     3                  Greece          Grc.  GRC          300   \n",
      "13     3                Bulgaria          Blg.  BGR          100   \n",
      "14     3                 Iceland          Ice.  ISL          352   \n",
      "15     3                Portugal         Port.  PRT          620   \n",
      "16     3          Czech Republic    Czech Rep.  CZE          203   \n",
      "17     3                 Denmark          Den.  DNK          208   \n",
      "18     4                 Hungary         Hung.  HUN          348   \n",
      "19     4                  Serbia         Serb.  SRB          688   \n",
      "20     4                 Austria          Aus.  AUT           40   \n",
      "21     4                 Ireland          Ire.  IRL          372   \n",
      "22     4               Lithuania         Lith.  LTU          440   \n",
      "23     4                  Latvia          Lat.  LVA          428   \n",
      "24     4                 Croatia          Cro.  HRV          191   \n",
      "25     4  Bosnia and Herzegovina          Bos.  BIH           70   \n",
      "26     4                Slovakia         Slvk.  SVK          703   \n",
      "27     4                 Estonia          Est.  EST          233   \n",
      "28     4             Netherlands         Neth.  NLD          528   \n",
      "29     4             Switzerland        Switz.  CHE          756   \n",
      "30     4                 Moldova          Mol.  MDA          498   \n",
      "31     4                 Belgium          Bel.  BEL           56   \n",
      "32     4                 Albania          Alb.  ALB            8   \n",
      "33     4               Macedonia          Mac.  MKD          807   \n",
      "34     4                Slovenia         Slvn.  SVN          705   \n",
      "35     4              Montenegro         Mont.  MNE          499   \n",
      "36     4                  Cyprus          Cyp.  CYP          196   \n",
      "37     4              Luxembourg          Lux.  LUX          442   \n",
      "38     4               Faroe Is.      Far. Is.  FRO          234   \n",
      "39     4                 Andorra          And.  AND           20   \n",
      "40     4                   Malta         Malta  MLT          470   \n",
      "41     4           Liechtenstein        Liech.  LIE          438   \n",
      "42     4                Guernsey        Guern.  GGY          831   \n",
      "43     4              San Marino       S. Mar.  SMR          674   \n",
      "44     4               Gibraltar          Gib.  GIB          292   \n",
      "45     4                  Monaco        Monaco  MCO          492   \n",
      "46     4            Vatican City  Vatican City  VAT          336   \n",
      "\n",
      "    land area km  population  latitude  longitude continent   groups  \n",
      "0       603700.0    45415596     49.00      32.00        eu      NaN  \n",
      "1       547030.0    64768389     46.00       2.00        eu      NaN  \n",
      "2       504782.0    46505963     40.00      -4.00        eu      NaN  \n",
      "3       449964.0     9045000     62.00      15.00        eu      NaN  \n",
      "4       357021.0    82369000     51.50      10.50        eu      NaN  \n",
      "5       337030.0     5244000     64.00      26.00        eu  nordics  \n",
      "6       324220.0     4907000     62.00      10.00        eu  nordics  \n",
      "7       312685.0    38500000     52.00      20.00        eu      NaN  \n",
      "8       301230.0    58145000     42.83      12.83        eu      NaN  \n",
      "9       244820.0    62348447     54.90      -3.12        eu      NaN  \n",
      "10      237500.0    21959278     46.00      25.00        eu      NaN  \n",
      "11      207600.0     9685000     53.00      28.00        eu      NaN  \n",
      "12      131940.0    11000000     39.00      22.00        eu      NaN  \n",
      "13      110910.0     7148785     43.00      25.00        eu      NaN  \n",
      "14      103000.0      308910     65.00     -18.00        eu  nordics  \n",
      "15       92391.0    10676000     39.50      -8.00        eu      NaN  \n",
      "16       78866.0    10476000     49.75      15.00        eu      NaN  \n",
      "17       43094.0     5484000     56.00      10.00        eu  nordics  \n",
      "18       93030.0     9930000     47.00      20.00        eu      NaN  \n",
      "19       88361.0     7344847     44.82      20.46        eu      NaN  \n",
      "20       83858.0     8205000     47.33      13.33        eu      NaN  \n",
      "21       70280.0     4622917     53.00      -8.00        eu      NaN  \n",
      "22       65200.0     3565000     56.00      24.00        eu  baltics  \n",
      "23       64589.0     2217969     57.00      25.00        eu  baltics  \n",
      "24       56542.0     4491000     45.17      15.50        eu      NaN  \n",
      "25       51129.0     4590000     44.25      17.83        eu      NaN  \n",
      "26       48845.0     5455000     48.67      19.50        eu      NaN  \n",
      "27       45226.0     1291170     59.00      26.00        eu  baltics  \n",
      "28       41526.0    16645000     52.50       5.75        eu  benelux  \n",
      "29       41290.0     7581000     47.00       8.01        eu      NaN  \n",
      "30       33843.0     4324000     47.00      29.00        eu      NaN  \n",
      "31       30510.0    10403000     50.83       4.00        eu  benelux  \n",
      "32       28748.0     2986952     41.00      20.00        eu      NaN  \n",
      "33       25333.0     2061000     41.83      22.00        eu      NaN  \n",
      "34       20273.0     2007000     46.25      15.17        eu      NaN  \n",
      "35       14026.0      666730     43.50      19.30        eu      NaN  \n",
      "36        9250.0     1102677     35.00      33.00      asia      NaN  \n",
      "37        2586.0      497538     49.75       6.17        eu  benelux  \n",
      "38        1399.0       48228     62.00      -7.00        eu      NaN  \n",
      "39         468.0       84000     42.50       1.50        eu      NaN  \n",
      "40         316.0      403000     35.92      14.43        eu      NaN  \n",
      "41         160.0       35000     47.17       9.53        eu      NaN  \n",
      "42          78.0       65228     49.58      -2.33        eu      NaN  \n",
      "43          61.2       31477     43.93      12.42        eu      NaN  \n",
      "44           6.5       27884     36.13      -5.35        eu      NaN  \n",
      "45           2.0       32965     43.73       7.42        eu      NaN  \n",
      "46           0.4         921     41.90      12.45        eu      NaN  \n"
     ]
    }
   ],
   "source": [
    "#save the change in csv file in visual libraty and then display file.\n",
    "df = pd.read_csv(r'C:\\Users\\jiyoo\\MakeAIWork\\practica\\week3\\sql\\csv\\countries_europe.csv')\n",
    "print(df)\n"
   ]
  },
  {
   "cell_type": "code",
   "execution_count": null,
   "id": "11a0643a-8bba-4812-beb7-22676ffbe1d3",
   "metadata": {},
   "outputs": [],
   "source": []
  },
  {
   "cell_type": "markdown",
   "id": "3915f0da-d771-4470-93e7-8b0337b472af",
   "metadata": {},
   "source": [
    "<h3>Load</h3>"
   ]
  },
  {
   "cell_type": "markdown",
   "id": "c50ff7d2-c034-43fd-b19d-24a3f4d1513f",
   "metadata": {},
   "source": [
    "<p>Maak een lege database</p>"
   ]
  },
  {
   "cell_type": "code",
   "execution_count": 76,
   "id": "a2d3575c-af21-4bb5-8585-6da463a42fdf",
   "metadata": {
    "tags": []
   },
   "outputs": [
    {
     "data": {
      "text/plain": [
       "0"
      ]
     },
     "execution_count": 76,
     "metadata": {},
     "output_type": "execute_result"
    }
   ],
   "source": [
    "sys('sqlite3 ../db/europe.db \"VACUUM;\"')"
   ]
  },
  {
   "cell_type": "code",
   "execution_count": 77,
   "id": "2e63c59f-e85b-41c7-87a5-b1973ffa5652",
   "metadata": {
    "tags": []
   },
   "outputs": [],
   "source": [
    "# Connect to SQLite database\n",
    "dbConnection = sqlite3.connect('../db/europe.db')"
   ]
  },
  {
   "cell_type": "markdown",
   "id": "a851f75c-1b37-4bec-9f92-146f45457533",
   "metadata": {},
   "source": [
    "<p>Maak tabellen o.b.v. de dataset</p>"
   ]
  },
  {
   "cell_type": "code",
   "execution_count": 78,
   "id": "0372fa16-5ba5-4aac-874f-67566b093721",
   "metadata": {
    "tags": []
   },
   "outputs": [
    {
     "data": {
      "text/plain": [
       "47"
      ]
     },
     "execution_count": 78,
     "metadata": {},
     "output_type": "execute_result"
    }
   ],
   "source": [
    "europeDF.to_sql('countries', dbConnection, if_exists='replace', index = False)\n",
    "euDF.to_sql('eu', dbConnection, if_exists='replace', index = False)"
   ]
  },
  {
   "cell_type": "code",
   "execution_count": 79,
   "id": "5e61d66c-78ec-4798-87ec-16a553d286ae",
   "metadata": {
    "tags": []
   },
   "outputs": [
    {
     "name": "stdout",
     "output_type": "stream",
     "text": [
      "[(3, 'Ukraine', 'Ukr.', 'UKR', 804, 603700.0, 45415596, 49.0, 32.0, 'eu', None, 3, 'Ukraine', 'Ukr.', 'UKR', 804, 603700.0, 45415596, 49.0, 32.0, 'eu', None), (3, 'France', 'Fr.', 'FRA', 250, 547030.0, 64768389, 46.0, 2.0, 'eu', None, 3, 'France', 'Fr.', 'FRA', 250, 547030.0, 64768389, 46.0, 2.0, 'eu', None), (3, 'Spain', 'Spain', 'ESP', 724, 504782.0, 46505963, 40.0, -4.0, 'eu', None, 3, 'Spain', 'Spain', 'ESP', 724, 504782.0, 46505963, 40.0, -4.0, 'eu', None), (3, 'Sweden', 'Swe.', 'SWE', 752, 449964.0, 9045000, 62.0, 15.0, 'eu', None, 3, 'Sweden', 'Swe.', 'SWE', 752, 449964.0, 9045000, 62.0, 15.0, 'eu', None), (3, 'Germany', 'Ger.', 'DEU', 276, 357021.0, 82369000, 51.5, 10.5, 'eu', None, 3, 'Germany', 'Ger.', 'DEU', 276, 357021.0, 82369000, 51.5, 10.5, 'eu', None), (3, 'Finland', 'Fin.', 'FIN', 246, 337030.0, 5244000, 64.0, 26.0, 'eu', 'nordics', 3, 'Finland', 'Fin.', 'FIN', 246, 337030.0, 5244000, 64.0, 26.0, 'eu', 'nordics'), (3, 'Norway', 'Nor.', 'NOR', 578, 324220.0, 4907000, 62.0, 10.0, 'eu', 'nordics', 3, 'Norway', 'Nor.', 'NOR', 578, 324220.0, 4907000, 62.0, 10.0, 'eu', 'nordics'), (3, 'Poland', 'Pol.', 'POL', 616, 312685.0, 38500000, 52.0, 20.0, 'eu', None, 3, 'Poland', 'Pol.', 'POL', 616, 312685.0, 38500000, 52.0, 20.0, 'eu', None), (3, 'Italy', 'Italy', 'ITA', 380, 301230.0, 58145000, 42.83, 12.83, 'eu', None, 3, 'Italy', 'Italy', 'ITA', 380, 301230.0, 58145000, 42.83, 12.83, 'eu', None), (3, 'United Kingdom', 'U.K.', 'GBR', 826, 244820.0, 62348447, 54.9, -3.12, 'eu', None, 3, 'United Kingdom', 'U.K.', 'GBR', 826, 244820.0, 62348447, 54.9, -3.12, 'eu', None), (3, 'Romania', 'Rom.', 'ROU', 642, 237500.0, 21959278, 46.0, 25.0, 'eu', None, 3, 'Romania', 'Rom.', 'ROU', 642, 237500.0, 21959278, 46.0, 25.0, 'eu', None), (3, 'Belarus', 'Bela.', 'BLR', 112, 207600.0, 9685000, 53.0, 28.0, 'eu', None, 3, 'Belarus', 'Bela.', 'BLR', 112, 207600.0, 9685000, 53.0, 28.0, 'eu', None), (3, 'Greece', 'Grc.', 'GRC', 300, 131940.0, 11000000, 39.0, 22.0, 'eu', None, 3, 'Greece', 'Grc.', 'GRC', 300, 131940.0, 11000000, 39.0, 22.0, 'eu', None), (3, 'Bulgaria', 'Blg.', 'BGR', 100, 110910.0, 7148785, 43.0, 25.0, 'eu', None, 3, 'Bulgaria', 'Blg.', 'BGR', 100, 110910.0, 7148785, 43.0, 25.0, 'eu', None), (3, 'Iceland', 'Ice.', 'ISL', 352, 103000.0, 308910, 65.0, -18.0, 'eu', 'nordics', 3, 'Iceland', 'Ice.', 'ISL', 352, 103000.0, 308910, 65.0, -18.0, 'eu', 'nordics'), (3, 'Portugal', 'Port.', 'PRT', 620, 92391.0, 10676000, 39.5, -8.0, 'eu', None, 3, 'Portugal', 'Port.', 'PRT', 620, 92391.0, 10676000, 39.5, -8.0, 'eu', None), (3, 'Czech Republic', 'Czech Rep.', 'CZE', 203, 78866.0, 10476000, 49.75, 15.0, 'eu', None, 3, 'Czech Republic', 'Czech Rep.', 'CZE', 203, 78866.0, 10476000, 49.75, 15.0, 'eu', None), (3, 'Denmark', 'Den.', 'DNK', 208, 43094.0, 5484000, 56.0, 10.0, 'eu', 'nordics', 3, 'Denmark', 'Den.', 'DNK', 208, 43094.0, 5484000, 56.0, 10.0, 'eu', 'nordics'), (4, 'Hungary', 'Hung.', 'HUN', 348, 93030.0, 9930000, 47.0, 20.0, 'eu', None, 4, 'Hungary', 'Hung.', 'HUN', 348, 93030.0, 9930000, 47.0, 20.0, 'eu', None), (4, 'Serbia', 'Serb.', 'SRB', 688, 88361.0, 7344847, 44.82, 20.46, 'eu', None, 4, 'Serbia', 'Serb.', 'SRB', 688, 88361.0, 7344847, 44.82, 20.46, 'eu', None), (4, 'Austria', 'Aus.', 'AUT', 40, 83858.0, 8205000, 47.33, 13.33, 'eu', None, 4, 'Austria', 'Aus.', 'AUT', 40, 83858.0, 8205000, 47.33, 13.33, 'eu', None), (4, 'Ireland', 'Ire.', 'IRL', 372, 70280.0, 4622917, 53.0, -8.0, 'eu', None, 4, 'Ireland', 'Ire.', 'IRL', 372, 70280.0, 4622917, 53.0, -8.0, 'eu', None), (4, 'Lithuania', 'Lith.', 'LTU', 440, 65200.0, 3565000, 56.0, 24.0, 'eu', 'baltics', 4, 'Lithuania', 'Lith.', 'LTU', 440, 65200.0, 3565000, 56.0, 24.0, 'eu', 'baltics'), (4, 'Latvia', 'Lat.', 'LVA', 428, 64589.0, 2217969, 57.0, 25.0, 'eu', 'baltics', 4, 'Latvia', 'Lat.', 'LVA', 428, 64589.0, 2217969, 57.0, 25.0, 'eu', 'baltics'), (4, 'Croatia', 'Cro.', 'HRV', 191, 56542.0, 4491000, 45.17, 15.5, 'eu', None, 4, 'Croatia', 'Cro.', 'HRV', 191, 56542.0, 4491000, 45.17, 15.5, 'eu', None), (4, 'Bosnia and Herzegovina', 'Bos.', 'BIH', 70, 51129.0, 4590000, 44.25, 17.83, 'eu', None, 4, 'Bosnia and Herzegovina', 'Bos.', 'BIH', 70, 51129.0, 4590000, 44.25, 17.83, 'eu', None), (4, 'Slovakia', 'Slvk.', 'SVK', 703, 48845.0, 5455000, 48.67, 19.5, 'eu', None, 4, 'Slovakia', 'Slvk.', 'SVK', 703, 48845.0, 5455000, 48.67, 19.5, 'eu', None), (4, 'Estonia', 'Est.', 'EST', 233, 45226.0, 1291170, 59.0, 26.0, 'eu', 'baltics', 4, 'Estonia', 'Est.', 'EST', 233, 45226.0, 1291170, 59.0, 26.0, 'eu', 'baltics'), (4, 'Netherlands', 'Neth.', 'NLD', 528, 41526.0, 16645000, 52.5, 5.75, 'eu', 'benelux', 4, 'Netherlands', 'Neth.', 'NLD', 528, 41526.0, 16645000, 52.5, 5.75, 'eu', 'benelux'), (4, 'Switzerland', 'Switz.', 'CHE', 756, 41290.0, 7581000, 47.0, 8.01, 'eu', None, 4, 'Switzerland', 'Switz.', 'CHE', 756, 41290.0, 7581000, 47.0, 8.01, 'eu', None), (4, 'Moldova', 'Mol.', 'MDA', 498, 33843.0, 4324000, 47.0, 29.0, 'eu', None, 4, 'Moldova', 'Mol.', 'MDA', 498, 33843.0, 4324000, 47.0, 29.0, 'eu', None), (4, 'Belgium', 'Bel.', 'BEL', 56, 30510.0, 10403000, 50.83, 4.0, 'eu', 'benelux', 4, 'Belgium', 'Bel.', 'BEL', 56, 30510.0, 10403000, 50.83, 4.0, 'eu', 'benelux'), (4, 'Albania', 'Alb.', 'ALB', 8, 28748.0, 2986952, 41.0, 20.0, 'eu', None, 4, 'Albania', 'Alb.', 'ALB', 8, 28748.0, 2986952, 41.0, 20.0, 'eu', None), (4, 'Macedonia', 'Mac.', 'MKD', 807, 25333.0, 2061000, 41.83, 22.0, 'eu', None, 4, 'Macedonia', 'Mac.', 'MKD', 807, 25333.0, 2061000, 41.83, 22.0, 'eu', None), (4, 'Slovenia', 'Slvn.', 'SVN', 705, 20273.0, 2007000, 46.25, 15.17, 'eu', None, 4, 'Slovenia', 'Slvn.', 'SVN', 705, 20273.0, 2007000, 46.25, 15.17, 'eu', None), (4, 'Montenegro', 'Mont.', 'MNE', 499, 14026.0, 666730, 43.5, 19.3, 'eu', None, 4, 'Montenegro', 'Mont.', 'MNE', 499, 14026.0, 666730, 43.5, 19.3, 'eu', None), (4, 'Cyprus', 'Cyp.', 'CYP', 196, 9250.0, 1102677, 35.0, 33.0, 'asia', None, 4, 'Cyprus', 'Cyp.', 'CYP', 196, 9250.0, 1102677, 35.0, 33.0, 'asia', None), (4, 'Luxembourg', 'Lux.', 'LUX', 442, 2586.0, 497538, 49.75, 6.17, 'eu', 'benelux', 4, 'Luxembourg', 'Lux.', 'LUX', 442, 2586.0, 497538, 49.75, 6.17, 'eu', 'benelux'), (4, 'Faroe Is.', 'Far. Is.', 'FRO', 234, 1399.0, 48228, 62.0, -7.0, 'eu', None, 4, 'Faroe Is.', 'Far. Is.', 'FRO', 234, 1399.0, 48228, 62.0, -7.0, 'eu', None), (4, 'Andorra', 'And.', 'AND', 20, 468.0, 84000, 42.5, 1.5, 'eu', None, 4, 'Andorra', 'And.', 'AND', 20, 468.0, 84000, 42.5, 1.5, 'eu', None), (4, 'Malta', 'Malta', 'MLT', 470, 316.0, 403000, 35.92, 14.43, 'eu', None, 4, 'Malta', 'Malta', 'MLT', 470, 316.0, 403000, 35.92, 14.43, 'eu', None), (4, 'Liechtenstein', 'Liech.', 'LIE', 438, 160.0, 35000, 47.17, 9.53, 'eu', None, 4, 'Liechtenstein', 'Liech.', 'LIE', 438, 160.0, 35000, 47.17, 9.53, 'eu', None), (4, 'Guernsey', 'Guern.', 'GGY', 831, 78.0, 65228, 49.58, -2.33, 'eu', None, 4, 'Guernsey', 'Guern.', 'GGY', 831, 78.0, 65228, 49.58, -2.33, 'eu', None), (4, 'San Marino', 'S. Mar.', 'SMR', 674, 61.2, 31477, 43.93, 12.42, 'eu', None, 4, 'San Marino', 'S. Mar.', 'SMR', 674, 61.2, 31477, 43.93, 12.42, 'eu', None), (4, 'Gibraltar', 'Gib.', 'GIB', 292, 6.5, 27884, 36.13, -5.35, 'eu', None, 4, 'Gibraltar', 'Gib.', 'GIB', 292, 6.5, 27884, 36.13, -5.35, 'eu', None), (4, 'Monaco', 'Monaco', 'MCO', 492, 2.0, 32965, 43.73, 7.42, 'eu', None, 4, 'Monaco', 'Monaco', 'MCO', 492, 2.0, 32965, 43.73, 7.42, 'eu', None), (4, 'Vatican City', 'Vatican City', 'VAT', 336, 0.4, 921, 41.9, 12.45, 'eu', None, 4, 'Vatican City', 'Vatican City', 'VAT', 336, 0.4, 921, 41.9, 12.45, 'eu', None)]\n",
      "<class 'list'>\n"
     ]
    }
   ],
   "source": [
    "dbCursor = dbConnection.cursor()\n",
    "\n",
    "query = \"\"\"\n",
    "    SELECT *\n",
    "    FROM countries\n",
    "    INNER JOIN eu\n",
    "    ON countries.Code = eu.Code\n",
    "\"\"\"\n",
    "\n",
    "result = dbCursor.execute(query).fetchall()\n",
    "print(result)\n",
    "print(type(result))"
   ]
  },
  {
   "cell_type": "code",
   "execution_count": 80,
   "id": "bc044c71-ee05-45b2-b200-9a06a98ed6dd",
   "metadata": {
    "tags": []
   },
   "outputs": [
    {
     "name": "stdout",
     "output_type": "stream",
     "text": [
      "[('UKR',), ('FRA',), ('ESP',), ('SWE',), ('DEU',), ('FIN',), ('NOR',), ('POL',), ('ITA',), ('GBR',), ('ROU',), ('BLR',), ('GRC',), ('BGR',), ('ISL',), ('PRT',), ('CZE',), ('DNK',), ('HUN',), ('SRB',), ('AUT',), ('IRL',), ('LTU',), ('LVA',), ('HRV',), ('BIH',), ('SVK',), ('EST',), ('NLD',), ('CHE',), ('MDA',), ('BEL',), ('ALB',), ('MKD',), ('SVN',), ('MNE',), ('CYP',), ('LUX',), ('FRO',), ('AND',), ('MLT',), ('LIE',), ('GGY',), ('SMR',), ('GIB',), ('MCO',), ('VAT',)]\n",
      "<class 'list'>\n"
     ]
    }
   ],
   "source": [
    "query = \"\"\"\n",
    "    SELECT Code\n",
    "    FROM countries\n",
    "\"\"\"\n",
    "\n",
    "result = dbCursor.execute(query).fetchall()\n",
    "print(result)\n",
    "print(type(result))"
   ]
  },
  {
   "cell_type": "markdown",
   "id": "2a6640a3-38f5-4561-a6f1-3a4b26e2f39c",
   "metadata": {},
   "source": [
    "<h3>Exercise 2</h3>\n",
    "<p>\n",
    "    Gebruik SQL queries voor het verkrijgen van\n",
    "<ol>\n",
    "    <li>het aantal landen dat onderdeel is van de Nordics</li>\n",
    "    <li>het aantal Europese landen dat lid is van de Europese Unie</li>\n",
    "    <li>het aantal EU-landen dat deel uitmaakt van de Norics</li>\n",
    "</ol>\n",
    "</p>"
   ]
  },
  {
   "cell_type": "code",
   "execution_count": null,
   "id": "f57f3aef-7b89-4d09-a064-c63c777bebcf",
   "metadata": {},
   "outputs": [],
   "source": [
    "# Close connection to SQLite database\n",
    "dbConnection.close()"
   ]
  }
 ],
 "metadata": {
  "kernelspec": {
   "display_name": "Python 3 (ipykernel)",
   "language": "python",
   "name": "python3"
  },
  "language_info": {
   "codemirror_mode": {
    "name": "ipython",
    "version": 3
   },
   "file_extension": ".py",
   "mimetype": "text/x-python",
   "name": "python",
   "nbconvert_exporter": "python",
   "pygments_lexer": "ipython3",
   "version": "3.10.10"
  },
  "vscode": {
   "interpreter": {
    "hash": "9d3afc9f718536a562acca7e4195db7e432105a6a5bfa793add3486ed553a0c5"
   }
  }
 },
 "nbformat": 4,
 "nbformat_minor": 5
}
