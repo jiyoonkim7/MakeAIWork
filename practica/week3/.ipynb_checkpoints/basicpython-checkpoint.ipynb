{
 "cells": [
  {
   "cell_type": "code",
   "execution_count": 1,
   "id": "1c91f741-e70b-459b-8998-edf19cff676a",
   "metadata": {
    "tags": []
   },
   "outputs": [
    {
     "name": "stdout",
     "output_type": "stream",
     "text": [
      "10\n",
      "2187\n",
      "0\n"
     ]
    }
   ],
   "source": [
    "a=3\n",
    "b=7\n",
    "print(a+b)\n",
    "print(a**b)\n",
    "print(a//b)"
   ]
  },
  {
   "cell_type": "code",
   "execution_count": 8,
   "id": "7cd64d39-cd24-4fea-834e-8b4a367fc447",
   "metadata": {},
   "outputs": [
    {
     "name": "stdout",
     "output_type": "stream",
     "text": [
      "\"Hello World.\" he says.\n"
     ]
    }
   ],
   "source": [
    "a='\"Hello World.\" he says.'\n",
    "\n",
    "print(a)"
   ]
  },
  {
   "cell_type": "code",
   "execution_count": 11,
   "id": "f88c9ee8-9017-4eb3-98f9-98527824f336",
   "metadata": {
    "tags": []
   },
   "outputs": [
    {
     "name": "stdout",
     "output_type": "stream",
     "text": [
      "Life is good\n"
     ]
    }
   ],
   "source": [
    "a=\"Life\"\n",
    "b= \" \"\n",
    "c=\"is good\"\n",
    "print(a+b+c)"
   ]
  },
  {
   "cell_type": "code",
   "execution_count": 12,
   "id": "a5465115-8f84-41a8-a0a8-4fe3703ff682",
   "metadata": {
    "tags": []
   },
   "outputs": [
    {
     "name": "stdout",
     "output_type": "stream",
     "text": [
      "LifeLifeLife\n"
     ]
    }
   ],
   "source": [
    "a=\"Life\"\n",
    "print(a*3)"
   ]
  },
  {
   "cell_type": "code",
   "execution_count": 13,
   "id": "83f60728-39f1-45e7-9a47-3e909ff256b6",
   "metadata": {
    "tags": []
   },
   "outputs": [
    {
     "name": "stdout",
     "output_type": "stream",
     "text": [
      "List\n"
     ]
    }
   ],
   "source": [
    "a=\"Life is short\"\n",
    "b=a[0]\n",
    "c=a[5]\n",
    "d=a[-5]\n",
    "e=a[-1]\n",
    "print(b+c+d+e)"
   ]
  },
  {
   "cell_type": "code",
   "execution_count": 49,
   "id": "f15625be-919f-4c58-8d84-a5de54b59419",
   "metadata": {
    "tags": []
   },
   "outputs": [
    {
     "name": "stdout",
     "output_type": "stream",
     "text": [
      "Life\n",
      " is short\n",
      " is \n"
     ]
    }
   ],
   "source": [
    "a=\"Life is short\"\n",
    "b=a[:4]\n",
    "print(b)\n",
    "c=a[4:]\n",
    "print(c)\n",
    "d=a[4:8]\n",
    "print(d)"
   ]
  },
  {
   "cell_type": "code",
   "execution_count": 30,
   "id": "be6cebf6-09e8-4559-ae9b-c836f9d31c3d",
   "metadata": {
    "tags": []
   },
   "outputs": [
    {
     "name": "stdout",
     "output_type": "stream",
     "text": [
      "1\n"
     ]
    }
   ],
   "source": [
    "a=\"apple\" #location of letter\n",
    "b=a.find('p')\n",
    "print(b)"
   ]
  },
  {
   "cell_type": "code",
   "execution_count": 40,
   "id": "70196b41-5969-4781-87eb-ab40cf97eda6",
   "metadata": {
    "tags": []
   },
   "outputs": [
    {
     "name": "stdout",
     "output_type": "stream",
     "text": [
      "a,p,p,l,e\n"
     ]
    }
   ],
   "source": [
    "a=\"apple\"\n",
    "b=\",\".join(a)\n",
    "print(b)"
   ]
  },
  {
   "cell_type": "code",
   "execution_count": 45,
   "id": "bce92a92-18ac-453f-9ff0-10e53ea62911",
   "metadata": {
    "tags": []
   },
   "outputs": [
    {
     "name": "stdout",
     "output_type": "stream",
     "text": [
      "J#i#y#o#o#n#A#v#a#M#a#r#c\n"
     ]
    }
   ],
   "source": [
    "myTuple = (\"Jiyoon\" \"Ava\" \"Marc\")\n",
    "\n",
    "x = \"#\".join(myTuple)\n",
    "\n",
    "print(x)"
   ]
  },
  {
   "cell_type": "code",
   "execution_count": 47,
   "id": "e486fec2-04ea-497d-a759-2a84539d2f13",
   "metadata": {
    "tags": []
   },
   "outputs": [
    {
     "name": "stdout",
     "output_type": "stream",
     "text": [
      "Jiyoon#Ava#Marc\n"
     ]
    }
   ],
   "source": [
    "myTuple = (\"Jiyoon\", \"Ava\", \"Marc\")\n",
    "\n",
    "x = \"#\".join(myTuple)\n",
    "\n",
    "print(x)\n"
   ]
  },
  {
   "cell_type": "code",
   "execution_count": 52,
   "id": "a53e214c-d89f-44a5-99c4-47edfa71d4f6",
   "metadata": {
    "tags": []
   },
   "outputs": [
    {
     "name": "stdout",
     "output_type": "stream",
     "text": [
      "APPLE\n",
      "apple\n"
     ]
    }
   ],
   "source": [
    "#change capital letters\n",
    "a='apple'\n",
    "b=a.upper()\n",
    "c=b.lower()\n",
    "print(b)\n",
    "print(c)"
   ]
  },
  {
   "cell_type": "code",
   "execution_count": 59,
   "id": "caf84a7e-c3a5-4fba-b1cd-33cb53b18863",
   "metadata": {
    "tags": []
   },
   "outputs": [
    {
     "data": {
      "text/plain": [
       "'apple '"
      ]
     },
     "execution_count": 59,
     "metadata": {},
     "output_type": "execute_result"
    }
   ],
   "source": [
    "#get rid of space\n",
    "a=\" apple \"\n",
    "a.lstrip()"
   ]
  },
  {
   "cell_type": "code",
   "execution_count": 60,
   "id": "cb2e3894-fd56-489b-981a-20b5526b047d",
   "metadata": {
    "tags": []
   },
   "outputs": [
    {
     "data": {
      "text/plain": [
       "' apple'"
      ]
     },
     "execution_count": 60,
     "metadata": {},
     "output_type": "execute_result"
    }
   ],
   "source": [
    "a=\" apple \"\n",
    "a.rstrip()"
   ]
  },
  {
   "cell_type": "code",
   "execution_count": 61,
   "id": "f88d8def-c72a-49c9-9fee-46f32468a90c",
   "metadata": {
    "tags": []
   },
   "outputs": [
    {
     "data": {
      "text/plain": [
       "'apple'"
      ]
     },
     "execution_count": 61,
     "metadata": {},
     "output_type": "execute_result"
    }
   ],
   "source": [
    "a=\" apple \"\n",
    "a.strip()"
   ]
  },
  {
   "cell_type": "code",
   "execution_count": 63,
   "id": "ab23fd25-e7e9-4f20-9f5a-6b4e30975fc4",
   "metadata": {
    "tags": []
   },
   "outputs": [
    {
     "name": "stdout",
     "output_type": "stream",
     "text": [
      "Love is good\n"
     ]
    }
   ],
   "source": [
    "#change words\n",
    "a=\"Life is good\"\n",
    "b=a.replace(\"Life\",\"Love\")\n",
    "print(b)"
   ]
  },
  {
   "cell_type": "code",
   "execution_count": 69,
   "id": "2729c20a-b41c-4a92-aedd-b5c46b891770",
   "metadata": {
    "tags": []
   },
   "outputs": [
    {
     "name": "stdout",
     "output_type": "stream",
     "text": [
      "['Life', 'is', 'good,', 'love', 'is', \"good'\"]\n",
      "['Life is good', \" love is good'\"]\n"
     ]
    }
   ],
   "source": [
    "#divide words\n",
    "a=\"Life is good, love is good'\"\n",
    "b=a.split()\n",
    "print(b)\n",
    "\n",
    "c=a.split(',')\n",
    "print(c)"
   ]
  },
  {
   "cell_type": "code",
   "execution_count": 71,
   "id": "510b27e3-f0f2-4cad-8d82-3d8cff720c95",
   "metadata": {
    "tags": []
   },
   "outputs": [
    {
     "name": "stdout",
     "output_type": "stream",
     "text": [
      "[1, 2, 3, 4, 5, 1, 2, 3, 4, 5, 'a', 'b', 'c']\n"
     ]
    }
   ],
   "source": [
    "a=[1,2,3,4,5]\n",
    "b=['a','b','c']\n",
    "c=a*2+b\n",
    "print(c)"
   ]
  },
  {
   "cell_type": "code",
   "execution_count": 72,
   "id": "5161b171-beba-4ced-a32c-43704ee669c0",
   "metadata": {
    "tags": []
   },
   "outputs": [
    {
     "name": "stdout",
     "output_type": "stream",
     "text": [
      "[1, 2, 10, 4]\n"
     ]
    }
   ],
   "source": [
    "#list change and delete\n",
    "a=[1,2,3,4,5]\n",
    "a[2]=10\n",
    "del a[4]\n",
    "print(a)"
   ]
  },
  {
   "cell_type": "code",
   "execution_count": 77,
   "id": "5f1016e3-b1f7-4836-8638-c40c0d715984",
   "metadata": {
    "tags": []
   },
   "outputs": [
    {
     "name": "stdout",
     "output_type": "stream",
     "text": [
      "[1, 2, 3, 7]\n"
     ]
    }
   ],
   "source": [
    "a=[1,2,3]\n",
    "b= 7\n",
    "a.append(b)\n",
    "print(a)"
   ]
  },
  {
   "cell_type": "code",
   "execution_count": 78,
   "id": "4a4d210b-f512-4a61-b7ba-e4155f031b66",
   "metadata": {
    "tags": []
   },
   "outputs": [
    {
     "name": "stdout",
     "output_type": "stream",
     "text": [
      "[1, 2, 3, 4, 5]\n"
     ]
    }
   ],
   "source": [
    "a=[1,5,2,4,3]\n",
    "a.sort()\n",
    "print(a)"
   ]
  },
  {
   "cell_type": "code",
   "execution_count": 79,
   "id": "181356bb-242b-44a8-8a8c-6e298154d79a",
   "metadata": {
    "tags": []
   },
   "outputs": [
    {
     "name": "stdout",
     "output_type": "stream",
     "text": [
      "4\n",
      "1\n"
     ]
    }
   ],
   "source": [
    "#list location change\n",
    "a=[1,5,2,4,3]\n",
    "b=a.index(3)\n",
    "c=a.index(5)\n",
    "print(b)\n",
    "print(c)"
   ]
  },
  {
   "cell_type": "code",
   "execution_count": null,
   "id": "ec440cae-36da-4889-aeba-0d0b0df73590",
   "metadata": {},
   "outputs": [],
   "source": []
  }
 ],
 "metadata": {
  "kernelspec": {
   "display_name": "Python 3 (ipykernel)",
   "language": "python",
   "name": "python3"
  },
  "language_info": {
   "codemirror_mode": {
    "name": "ipython",
    "version": 3
   },
   "file_extension": ".py",
   "mimetype": "text/x-python",
   "name": "python",
   "nbconvert_exporter": "python",
   "pygments_lexer": "ipython3",
   "version": "3.10.10"
  }
 },
 "nbformat": 4,
 "nbformat_minor": 5
}
