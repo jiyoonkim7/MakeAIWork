{
 "cells": [
  {
   "cell_type": "code",
   "execution_count": 86,
   "id": "53d531dc-0b00-4720-b252-082f06422765",
   "metadata": {
    "tags": []
   },
   "outputs": [],
   "source": [
    "import pickle"
   ]
  },
  {
   "cell_type": "code",
   "execution_count": 83,
   "id": "74b4ded5-341b-422c-8432-3a10de883534",
   "metadata": {
    "tags": []
   },
   "outputs": [
    {
     "name": "stdout",
     "output_type": "stream",
     "text": [
      "(Jiyoon,jiyoon@gmail.com,Cohort2)\n"
     ]
    }
   ],
   "source": [
    "    \n",
    " class Student:\n",
    "    \"\"\"\n",
    "    Declare employee class to read and print data from a file\n",
    "    \"\"\"\n",
    "    def __init__(self, name, email, post):\n",
    "      self.name = name\n",
    "      self.email = email\n",
    "      self.post = post\n",
    "\n",
    "    def __str__(self):\n",
    "        return f'({self.name},{self.email},{self.post})'\n",
    "        # return f'Person({self.first_name},{self.last_name},{self.age})'\n",
    "   \n",
    "def main():\n",
    "  hans = Student('Hans', '@', 'Cohort2')\n",
    "  jiyoon = Student('Jiyoon', 'jiyoon@gmail.com', 'Cohort2')\n",
    "  marina = Student('Marina', '@', 'Cohort2')\n",
    "  \n",
    "     \n",
    "  print(jiyoon)     \n",
    "  \n",
    "# Using the special variable b\n",
    "# __name__\n",
    "if __name__==\"__main__\":\n",
    "    main()         "
   ]
  },
  {
   "cell_type": "code",
   "execution_count": 87,
   "id": "f3c0d800-7c1e-442b-9a24-c6cd86fa0588",
   "metadata": {
    "tags": []
   },
   "outputs": [],
   "source": [
    "#create a pickle file\n",
    "picklefile = open('Student', 'wb')\n",
    "#pickle the dictionary and write it to file\n",
    "pickle.dump(Student, picklefile)\n",
    "#close the file\n",
    "picklefile.close()"
   ]
  },
  {
   "cell_type": "code",
   "execution_count": 101,
   "id": "a73afe82-4741-4b01-9c98-dbebd5a6ba4a",
   "metadata": {
    "tags": []
   },
   "outputs": [],
   "source": [
    "#unpacking a pickle file\n",
    "\n",
    "import pickle\n",
    "\n",
    "class Student:\n",
    "  def __init__(self, name, email, post):\n",
    "    self.name = name\n",
    "    self.email = email\n",
    "    self.post = post\n",
    "\n",
    "  def __str__(self):\n",
    "        return f'({self.name},{self.email},{self.post})'\n",
    "        # return f'Person({self.first_name},{self.last_name},{self.age})'\n",
    "   \n",
    "def main():\n",
    "  hans = Student('Hans', '@', 'Cohort2')\n",
    "  jiyoon = Student('Jiyoon', 'jiyoon@gmail.com', 'Cohort2')\n",
    "  marina = Student('Marina', '@', 'Cohort2')\n",
    "  \n",
    "    # Open the file for reading\n",
    "picklefile = open('Student', 'rb')\n",
    "\n",
    "# Unpickle the data\n",
    "Student = pickle.load(picklefile)\n",
    "\n",
    "# Close file\n",
    "picklefile.close()"
   ]
  }
 ],
 "metadata": {
  "kernelspec": {
   "display_name": "Python 3 (ipykernel)",
   "language": "python",
   "name": "python3"
  },
  "language_info": {
   "codemirror_mode": {
    "name": "ipython",
    "version": 3
   },
   "file_extension": ".py",
   "mimetype": "text/x-python",
   "name": "python",
   "nbconvert_exporter": "python",
   "pygments_lexer": "ipython3",
   "version": "3.10.10"
  }
 },
 "nbformat": 4,
 "nbformat_minor": 5
}
