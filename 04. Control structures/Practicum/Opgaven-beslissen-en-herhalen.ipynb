{
 "cells": [
  {
   "cell_type": "markdown",
   "id": "6e93d43b",
   "metadata": {},
   "source": [
    "# Beslissen en herhalen"
   ]
  },
  {
   "cell_type": "markdown",
   "id": "a4f6c97b",
   "metadata": {},
   "source": [
    "Om effectief te kunnen programmeren moet je:\n",
    "\n",
    "#### 1. Weten welke basisinstructies je tot je beschikking hebt\n",
    "Een mooi startpunt is [W3Schools over Python](https://www.w3schools.com/python/default.asp).\n",
    "\n",
    "\n",
    "#### 2. Weten hoe je de juiste instructies kunt vinden\n",
    "De zoektermen volgen uit je literate programming beschrijving en je pseudo code.\n",
    "\n",
    "### Let op!\n",
    "Het kan verleidelijk zijn om de OPLOSSING te googlen, zeker in het begin.\n",
    "\n",
    "##### Als je merkt dat je dit aan het doen bent, dan heb je de literate programming steps niet precies genoeg uitgewerkt.\n",
    "De opdracht is dan te groot en te complex."
   ]
  },
  {
   "cell_type": "markdown",
   "id": "92ed6127",
   "metadata": {},
   "source": [
    "## Basics: beslissen"
   ]
  },
  {
   "cell_type": "markdown",
   "id": "e0b00e53",
   "metadata": {},
   "source": [
    "Bestudeer [if else statements](https://www.w3schools.com/python/python_conditions.asp)\n",
    "\n",
    "(de voorbeelden zijn interactief)"
   ]
  },
  {
   "cell_type": "markdown",
   "id": "eb320abd",
   "metadata": {},
   "source": [
    "### 1. Vergelijken**"
   ]
  },
  {
   "cell_type": "markdown",
   "id": "f522b9d8",
   "metadata": {},
   "source": [
    "- Laat de gebruiker twee woorden invoeren\n",
    "- Geef aan welk woord het langs is\n",
    "- Neem ook het geval dat ze gelijk zijn mee\n",
    "- Print het resultaat\n",
    "\n",
    "Hint: je mag in dit geval [de functie len()](https://www.w3schools.com/python/python_strings.asp) gebruiken"
   ]
  },
  {
   "cell_type": "code",
   "execution_count": 1,
   "id": "0e2aedfa",
   "metadata": {},
   "outputs": [
    {
     "name": "stdin",
     "output_type": "stream",
     "text": [
      "Type a word:  missisippi\n",
      "Type a word:  gigiga\n"
     ]
    },
    {
     "name": "stdout",
     "output_type": "stream",
     "text": [
      "missisippi\n",
      "gigiga\n",
      "word1 is langer\n",
      "The length is same\n"
     ]
    }
   ],
   "source": [
    "# 1. Formulate a solution\n",
    "word1 = input(\"Type a word: \")\n",
    "word2 = input(\"Type a word: \")\n",
    "\n",
    "print(word1)\n",
    "print(word2)\n",
    "\n",
    "if len(word1)>len(word2):\n",
    "    print(\"word1 is langer\") \n",
    "\n",
    "    if len(word1) < len(word2):\n",
    "        print(\"word2 is langer\")\n",
    "\n",
    "    else: \n",
    "        len(word1) == len(word2)\n",
    "        print(\"The length is same\")\n",
    "\n",
    "# 2. Implement the solution"
   ]
  },
  {
   "cell_type": "markdown",
   "id": "0b5a8819",
   "metadata": {},
   "source": [
    "### 2. Categoriseren**"
   ]
  },
  {
   "cell_type": "markdown",
   "id": "49270585",
   "metadata": {},
   "source": [
    "- Vraag de gebruiker om een getal\n",
    "- Bepaal of dit getal even is\n",
    "- Print het resultaat\n",
    "\n",
    "Hint: je mag in dit geval de [operatoren '/' en '%'](https://www.w3schools.com/python/python_operators.asp) gebruiken"
   ]
  },
  {
   "cell_type": "code",
   "execution_count": 7,
   "id": "98a288c9",
   "metadata": {},
   "outputs": [
    {
     "name": "stdin",
     "output_type": "stream",
     "text": [
      " 80\n"
     ]
    },
    {
     "name": "stdout",
     "output_type": "stream",
     "text": [
      "80 is Even\n"
     ]
    }
   ],
   "source": [
    "num = int(input())\n",
    "\n",
    "if (num%2) == 0:\n",
    "    print(\"{0} is Even\".format(num))\n",
    "else:\n",
    "    print(\"{0} is Odd\".format(num))\n"
   ]
  },
  {
   "cell_type": "markdown",
   "id": "2be34655",
   "metadata": {},
   "source": [
    "## Basics: herhalen"
   ]
  },
  {
   "cell_type": "markdown",
   "id": "8491ff0e",
   "metadata": {},
   "source": [
    "Bestudeer [for loops](https://www.w3schools.com/python/python_for_loops.asp)\n",
    "\n",
    "Bestudeer [while loops](https://www.w3schools.com/python/python_while_loops.asp)\n",
    "\n",
    "(de voorbeelden zijn interactief)"
   ]
  },
  {
   "cell_type": "markdown",
   "id": "af980848",
   "metadata": {},
   "source": [
    "### 1. Printen*"
   ]
  },
  {
   "cell_type": "markdown",
   "id": "120a2dd8",
   "metadata": {},
   "source": [
    "- Print je naam 23 keer uit\n",
    "\n",
    "Extra: kun je het er ook een nummer voor zetten?\n",
    "\n",
    "    1. Ruud\n",
    "    2. Ruud\n",
    "    3. Ruud\n",
    "\n",
    "    ...\n",
    "\n",
    "Hint: kijk nog eens naar de les van Jeroen over strings"
   ]
  },
  {
   "cell_type": "code",
   "execution_count": 8,
   "id": "4d8cb9fb",
   "metadata": {},
   "outputs": [
    {
     "name": "stdin",
     "output_type": "stream",
     "text": [
      "Type a name:  Jiyoon\n"
     ]
    },
    {
     "name": "stdout",
     "output_type": "stream",
     "text": [
      "Jiyoon\n",
      "Jiyoon\n",
      "Jiyoon\n",
      "Jiyoon\n",
      "Jiyoon\n",
      "Jiyoon\n",
      "Jiyoon\n",
      "Jiyoon\n",
      "Jiyoon\n",
      "Jiyoon\n",
      "Jiyoon\n",
      "Jiyoon\n",
      "Jiyoon\n",
      "Jiyoon\n",
      "Jiyoon\n",
      "Jiyoon\n",
      "Jiyoon\n",
      "Jiyoon\n",
      "Jiyoon\n",
      "Jiyoon\n",
      "Jiyoon\n",
      "Jiyoon\n",
      "Jiyoon\n"
     ]
    }
   ],
   "source": [
    "# 1. Formulate a solution\n",
    "# 2. Implement the solution\n",
    "\n",
    "name = str(input(\"Type a name: \"))\n",
    "for i in range(23):\n",
    "    print(name)"
   ]
  },
  {
   "cell_type": "markdown",
   "id": "379ec167",
   "metadata": {},
   "source": [
    "### 2. Optellen*"
   ]
  },
  {
   "cell_type": "markdown",
   "id": "d21d8212",
   "metadata": {},
   "source": [
    "- Tel de getallen 0, 1, 2, ... t/m 100 op\n",
    "- Print het resultaat"
   ]
  },
  {
   "cell_type": "code",
   "execution_count": 9,
   "id": "92ac6462",
   "metadata": {},
   "outputs": [
    {
     "name": "stdout",
     "output_type": "stream",
     "text": [
      "5050\n"
     ]
    }
   ],
   "source": [
    "# 1. Formulate a solution\n",
    "# 2. Implement the solution\n",
    "\n",
    "numbers=0\n",
    "for x in range(100):\n",
    "    x=x+1\n",
    "    numbers=numbers+x\n",
    "print(numbers) "
   ]
  },
  {
   "cell_type": "markdown",
   "id": "9d394ec4",
   "metadata": {},
   "source": [
    "### 3. Print een specifieke som**"
   ]
  },
  {
   "cell_type": "markdown",
   "id": "894c9c7e",
   "metadata": {},
   "source": [
    "- Print de som van een getal en het vorige getal\n",
    "- Doe dit van nul tot aan een getal dat de gebruiker invoert"
   ]
  },
  {
   "cell_type": "code",
   "execution_count": 11,
   "id": "d6274b0a",
   "metadata": {
    "tags": []
   },
   "outputs": [
    {
     "name": "stdin",
     "output_type": "stream",
     "text": [
      "Type a number:  4\n"
     ]
    },
    {
     "name": "stdout",
     "output_type": "stream",
     "text": [
      "14\n"
     ]
    }
   ],
   "source": [
    "# 1. Formulate a solution\n",
    "# 2. Implement the solution\n",
    "\n",
    "numbers=0\n",
    "\n",
    "NumberNr = int(input(\"Type a number: \"))\n",
    "for x in range(NumberNr):\n",
    "    x=x+1\n",
    "    NumberNr=NumberNr+x\n",
    "print(NumberNr)\n"
   ]
  },
  {
   "cell_type": "markdown",
   "id": "9e30cf7d",
   "metadata": {},
   "source": [
    "## Gecombineerd"
   ]
  },
  {
   "cell_type": "markdown",
   "id": "d728ef64",
   "metadata": {},
   "source": [
    "### 1. Print alle medeklinkers van een woord of zin***"
   ]
  },
  {
   "cell_type": "markdown",
   "id": "0cfcd436",
   "metadata": {},
   "source": [
    "- Vraag de gebruiker om een woord of zin in te voeren\n",
    "- Print vervolgens alle medeklinkers\n",
    "- Als de invoer een zin is, print dan ook alle spaties en leestekens"
   ]
  },
  {
   "cell_type": "code",
   "execution_count": 14,
   "id": "fcb2b739-b3bc-42e4-98ee-a218c3e5b11f",
   "metadata": {
    "tags": []
   },
   "outputs": [
    {
     "name": "stdin",
     "output_type": "stream",
     "text": [
      "type a word:   beautuful\n"
     ]
    },
    {
     "name": "stdout",
     "output_type": "stream",
     "text": [
      "beautiful\n",
      "There are 5 vowels in the word: 'beautuful'\n"
     ]
    }
   ],
   "source": [
    "# 1. Start simple: take the example above\n",
    "# 2. Explain your solution in words only\n",
    "# 3. Write down your solution in pseudo code\n",
    "# 4. Implement your pseudo code in Python\n",
    "# 5. Extend your solution to the general case\n",
    "\n",
    "wordNew = input(\"type a word:  \")\n",
    "print(word)\n",
    "vowels = 'A,a,E,e,I,i,O,o,U,u'\n",
    "Count = 0\n",
    "for character in wordNew:\n",
    "    if character in vowels:\n",
    "        Count += 1\n",
    "print('There are {} vowels in the word: \\'{}\\''.format(Count,wordNew))"
   ]
  },
  {
   "cell_type": "code",
   "execution_count": 18,
   "id": "0112311d",
   "metadata": {
    "tags": []
   },
   "outputs": [
    {
     "name": "stdin",
     "output_type": "stream",
     "text": [
      "type a word:   vakantie\n"
     ]
    },
    {
     "name": "stdout",
     "output_type": "stream",
     "text": [
      "{'a': 2, 'e': 1, 'i': 1, 'o': 0, 'u': 0, 'A': 0, 'E': 0, 'I': 0, 'O': 0, 'U': 0}\n"
     ]
    }
   ],
   "source": [
    "# 1. Start simple: take the example above\n",
    "# 2. Explain your solution in words only\n",
    "# 3. Write down your solution in pseudo code\n",
    "# 4. Implement your pseudo code in Python\n",
    "# 5. Extend your solution to the general case\n",
    "\n",
    "count = 0\n",
    "eachVowel = input(\"type a word:  \")\n",
    "eachVowel = eachVowel.casefold()\n",
    "\n",
    "#.count the vowels\n",
    "\n",
    "count = {x:sum([1 for char in eachVowel if char == x]) for x in 'aeiouAEIOU'}\n",
    "print(count)              "
   ]
  },
  {
   "cell_type": "markdown",
   "id": "ed2dd7e2",
   "metadata": {},
   "source": [
    "### 2. Print een diamant vorm***"
   ]
  },
  {
   "cell_type": "markdown",
   "id": "d8438e85",
   "metadata": {},
   "source": [
    "- Vraag de gebruiker om een hoogte\n",
    "- Print vervolgens een diamant van die hoogte\n",
    "\n",
    "Hint: zijn er hoogtes waarvoor dit niet lukt? Zo ja, laat de gebruiker dit dan weten."
   ]
  },
  {
   "cell_type": "code",
   "execution_count": 2,
   "id": "1e43d711-3198-4664-b0bc-a5e23f4f696a",
   "metadata": {},
   "outputs": [
    {
     "name": "stdout",
     "output_type": "stream",
     "text": [
      "   *\n",
      "  ***\n",
      " *****\n",
      "*******\n",
      " *****\n",
      "  ***\n",
      "   *\n"
     ]
    }
   ],
   "source": [
    "#solution 2\n",
    "#    *        star:1   space:3   i==0\n",
    "#   ***       star:3   space:2   i==1\n",
    "#  *****      star:5   space:1   i==2\n",
    "# *******     star:7   space:0   i==3\n",
    "#  *****      star:5   space:1   i==4\n",
    "#   ***       star:3   space:2   i==5\n",
    "#    *        star:1   space:3   i==6\n",
    "\n",
    "# a == 7   a// = 3\n",
    " # \"space\" until i<=a//2 \n",
    "    #print i into 0,1,2,3 print out (a//2 - i)\n",
    "    # \"star\" 1,3,5,7 print out(2*i+1)\n",
    "# from i==4 until i==6\n",
    "    # \"space\" i-a//2\n",
    "    # \"star\" 5,3,1 (difference 2), \n",
    "      # i*2 : 8, 10,12, (i*2) \n",
    "      # (i*2-a) : 1,3,5\n",
    "         #(a-(i*2-a)) : 6,4,2\n",
    "         #((a-(i*2-a))-1) : 5,3,1\n",
    "        \n",
    "    \n",
    "a = 7\n",
    "for i in range(a):\n",
    "    if i <= (a//2):\n",
    "        print(' ' * (a//2 - i), end = '')\n",
    "        print('*' * (2*i+1))\n",
    "    else:\n",
    "        print(' ' * (i-a//2), end = '')\n",
    "        print('*' * (a - (2*i - a) -1))     \n",
    "                        "
   ]
  },
  {
   "cell_type": "code",
   "execution_count": 9,
   "id": "8c5501e3",
   "metadata": {
    "tags": []
   },
   "outputs": [
    {
     "name": "stdout",
     "output_type": "stream",
     "text": [
      "    *\n",
      "   ***\n",
      "  *****\n",
      " *******\n",
      "  *****\n",
      "   ***\n",
      "    *\n"
     ]
    }
   ],
   "source": [
    "# An example with height 7\n",
    "\n",
    "\n",
    "\n",
    "\n",
    "\n",
    "# 1. Start simple: take the example above\n",
    "\n",
    "# 2. Explain your solution in words only\n",
    "\n",
    "# 3. Write down your solution in pseudo code\n",
    "\n",
    "# 4. Implement your pseudo code in Python\n",
    "\n",
    "# 5. Extend your solution to the general case\n",
    "\n",
    "a = 8\n",
    "for i in range(a//2):\n",
    "    print(' ' * (a//2 - i), end = '')\n",
    "    print('*' * (2*i+1))  \n",
    "\n",
    "for i in range(a//2-1):\n",
    "    print(' ' * (i + 2), end = '')\n",
    "    print('*' * ((a//2*2)-3-2*i))"
   ]
  }
 ],
 "metadata": {
  "kernelspec": {
   "display_name": "Python 3 (ipykernel)",
   "language": "python",
   "name": "python3"
  },
  "language_info": {
   "codemirror_mode": {
    "name": "ipython",
    "version": 3
   },
   "file_extension": ".py",
   "mimetype": "text/x-python",
   "name": "python",
   "nbconvert_exporter": "python",
   "pygments_lexer": "ipython3",
   "version": "3.10.10"
  }
 },
 "nbformat": 4,
 "nbformat_minor": 5
}
