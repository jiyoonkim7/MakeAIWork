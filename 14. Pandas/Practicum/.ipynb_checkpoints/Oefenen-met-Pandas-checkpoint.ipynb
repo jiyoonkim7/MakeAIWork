{
 "cells": [
  {
   "cell_type": "markdown",
   "id": "6ab111a7",
   "metadata": {},
   "source": [
    "# Oefenen met Pandas"
   ]
  },
  {
   "attachments": {
    "konfu.jpg": {
     "image/jpeg": "[encoded data removed]"
    }
   },
   "cell_type": "markdown",
   "id": "95e31da6",
   "metadata": {},
   "source": [
    "![konfu.jpg](attachment:konfu.jpg)"
   ]
  },
  {
   "cell_type": "markdown",
   "id": "3cd380a6",
   "metadata": {},
   "source": [
    "## Bron"
   ]
  },
  {
   "cell_type": "markdown",
   "id": "1738764d",
   "metadata": {},
   "source": [
    "De Comodity Prices dataset komt van Kaggle:\n",
    "\n",
    "https://www.kaggle.com/datasets/elmoallistair/commodity-prices-19602021"
   ]
  },
  {
   "cell_type": "markdown",
   "id": "fbd7b9a4",
   "metadata": {},
   "source": [
    "## Beschrijving"
   ]
  },
  {
   "cell_type": "markdown",
   "id": "4d27c03e",
   "metadata": {},
   "source": [
    "De dataset bevat de gemiddelde jaarprijs van **30** grondstoffen tussen **1960-2021**."
   ]
  },
  {
   "cell_type": "markdown",
   "id": "34782382",
   "metadata": {},
   "source": [
    "## Opdracht 1: inlezen"
   ]
  },
  {
   "cell_type": "markdown",
   "id": "2c32094c",
   "metadata": {},
   "source": [
    "Lees de Comodity Prices dataset in."
   ]
  },
  {
   "cell_type": "code",
   "execution_count": 1,
   "id": "e8243116",
   "metadata": {},
   "outputs": [],
   "source": [
    "# Read csv file\n",
    "\n",
    "# ..."
   ]
  },
  {
   "cell_type": "markdown",
   "id": "7a177b3b",
   "metadata": {},
   "source": [
    "## Opdracht 2: exploreren"
   ]
  },
  {
   "cell_type": "markdown",
   "id": "c9df9ad1",
   "metadata": {},
   "source": [
    "Welke kolommen bevat deze dataset?"
   ]
  },
  {
   "cell_type": "code",
   "execution_count": 2,
   "id": "85548535",
   "metadata": {},
   "outputs": [],
   "source": [
    "# Print info\n",
    "\n",
    "# ..."
   ]
  },
  {
   "cell_type": "markdown",
   "id": "3422b46b",
   "metadata": {},
   "source": [
    "Welk datatype heeft elke kolom?"
   ]
  },
  {
   "cell_type": "code",
   "execution_count": 3,
   "id": "f2109393",
   "metadata": {},
   "outputs": [],
   "source": [
    "# Beschrijf datatype\n",
    "\n",
    "# ..."
   ]
  },
  {
   "cell_type": "markdown",
   "id": "6a0b4d2b",
   "metadata": {},
   "source": [
    "Wat is de gemiddelde prijs voor ruwe olie over de jaren?"
   ]
  },
  {
   "cell_type": "code",
   "execution_count": 4,
   "id": "c12adf9b",
   "metadata": {},
   "outputs": [],
   "source": [
    "# Zoek in de Pandas documentatie een geschikte functie\n",
    "# Hint: https://pandas.pydata.org/docs/reference/series.html\n",
    "\n",
    "# ...\n",
    "\n",
    "# Voer deze functie uit op het veld 'Crude Oil' en print het resultaat\n",
    "\n",
    "# ..."
   ]
  },
  {
   "cell_type": "markdown",
   "id": "488685d1",
   "metadata": {},
   "source": [
    "Wanneer was de olieprijs op zijn hoogst? En op zijn laagst?"
   ]
  },
  {
   "cell_type": "code",
   "execution_count": 5,
   "id": "05562833",
   "metadata": {},
   "outputs": [],
   "source": [
    "# Print highest and lowest price\n",
    "\n",
    "# ...\n",
    "\n",
    "# Print het jaar van de hoogste en laagste prijs\n",
    "\n",
    "# ..."
   ]
  },
  {
   "cell_type": "markdown",
   "id": "3d8c2c21",
   "metadata": {},
   "source": [
    "Net als SQL kan Pandas ook queries uitvoeren en filteren.\n",
    "\n",
    "Zoek alle jaren waarin de olieprijs tussen 50 en 80 dollar was."
   ]
  },
  {
   "cell_type": "code",
   "execution_count": 6,
   "id": "94b759e4",
   "metadata": {},
   "outputs": [],
   "source": [
    "# Hint: filter jaren waar de prijs tussen 50 en 80 was\n",
    "\n",
    "# ..."
   ]
  },
  {
   "cell_type": "markdown",
   "id": "8c1bf859",
   "metadata": {},
   "source": [
    "## Opdracht 3: samenstellen"
   ]
  },
  {
   "cell_type": "markdown",
   "id": "644ad10b",
   "metadata": {},
   "source": [
    "Stel dat Nutella zou bestaan uit 50% cacao, 20% suiker, 5% mais en 25% kokosolie.\n",
    "\n",
    "Verder is gegeven:\n",
    "\n",
    "- voor deze grondstoffen is de prijs per kilogram\n",
    "- een pot bevat 800 gram Nutella\n",
    "\n",
    "Wat is dan de prijs voor een pot Nutella in elk jaar?"
   ]
  },
  {
   "cell_type": "code",
   "execution_count": 7,
   "id": "86bfd7e8",
   "metadata": {},
   "outputs": [],
   "source": [
    "# Voeg een kolom 'Nutella' toe aan het DataFrame:\n",
    "\n",
    "# ...\n",
    "\n",
    "# Bereken de prijs voor een pot van 800 gram over de jaren heen:\n",
    "\n",
    "# ..."
   ]
  },
  {
   "cell_type": "markdown",
   "id": "8476bac1",
   "metadata": {},
   "source": [
    "## Opdracht 4: aanvullen"
   ]
  },
  {
   "cell_type": "markdown",
   "id": "1688d93a",
   "metadata": {},
   "source": [
    "Zoals je ziet, ontbreekt de data voor kolen.\n",
    "\n",
    "- Tussen welke jaartallen is dat?"
   ]
  },
  {
   "cell_type": "code",
   "execution_count": 8,
   "id": "3b72b0c9",
   "metadata": {},
   "outputs": [],
   "source": [
    "# Gebruik Pandas voor deze analyse:\n",
    "\n",
    "# ..."
   ]
  },
  {
   "cell_type": "markdown",
   "id": "00ebfe0d",
   "metadata": {},
   "source": [
    "Plot de data voor de grondstoffen."
   ]
  },
  {
   "cell_type": "code",
   "execution_count": 9,
   "id": "9b1d6569",
   "metadata": {},
   "outputs": [],
   "source": [
    "# Plot de data:\n",
    "\n",
    "\n",
    "# ..."
   ]
  },
  {
   "cell_type": "markdown",
   "id": "f95dba3d",
   "metadata": {},
   "source": [
    "Maak op basis van de aanwezige data een schatting van de ontbrekende waarden:\n",
    "\n",
    "1. Kun je op basis van de curve een schatting maken?\n",
    "2. Loopt de prijs van kolen op met een andere grondstof?\n",
    "3. Kun je die als schatting gebruiken?\n",
    "4. Vul de data aan in de set en sla de set op"
   ]
  },
  {
   "cell_type": "code",
   "execution_count": 10,
   "id": "a59dd8bc",
   "metadata": {},
   "outputs": [],
   "source": [
    "# Analyseer de curves by 'eyeballing':\n",
    "\n",
    "# ...\n",
    "\n",
    "# Maak een schatting van de waarden:\n",
    "\n",
    "# ...\n",
    "\n",
    "# Gebruik Pandas om de data aan te vullen en op te slaan:\n",
    "\n",
    "# ..."
   ]
  },
  {
   "cell_type": "markdown",
   "id": "720160f7",
   "metadata": {},
   "source": [
    "## Gefeliciteerd!"
   ]
  },
  {
   "cell_type": "markdown",
   "id": "4e07fbe2",
   "metadata": {},
   "source": [
    "Je ben nu een kung fu panda."
   ]
  }
 ],
 "metadata": {
  "kernelspec": {
   "display_name": "Python 3 (ipykernel)",
   "language": "python",
   "name": "python3"
  },
  "language_info": {
   "codemirror_mode": {
    "name": "ipython",
    "version": 3
   },
   "file_extension": ".py",
   "mimetype": "text/x-python",
   "name": "python",
   "nbconvert_exporter": "python",
   "pygments_lexer": "ipython3",
   "version": "3.10.6"
  }
 },
 "nbformat": 4,
 "nbformat_minor": 5
}
